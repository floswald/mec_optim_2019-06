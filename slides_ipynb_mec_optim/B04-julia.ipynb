{
 "cells": [
  {
   "cell_type": "markdown",
   "metadata": {},
   "source": [
    "# <center>Block 4: Discrete optimal transport</center>\n",
    "### <center>Alfred Galichon (NYU)</center>\n",
    "## <center>`math+econ+code' masterclass on matching models, optimal transport and applications</center>\n",
    "<center>© 2018-2019 by Alfred Galichon. Support from NSF grant DMS-1716489 is acknowledged. James Nesbit contributed.</center>"
   ]
  },
  {
   "cell_type": "markdown",
   "metadata": {},
   "source": [
    "## Optimal Transport I: Discrete Transport"
   ]
  },
  {
   "cell_type": "markdown",
   "metadata": {},
   "source": [
    "### Learning Objectives\n",
    "\n",
    "* Optimal assignment problem\n",
    "\n",
    "* Pairwise stability, Walrasian equilibrium\n",
    "\n",
    "* Computation"
   ]
  },
  {
   "cell_type": "markdown",
   "metadata": {},
   "source": [
    "### References\n",
    "\n",
    "* [OTME], Ch. 3\n",
    "\n",
    "* Roth, Sotomayor(1990). *Two-Sided Matching*. Cambridge.\n",
    "\n",
    "* Koopmans and Beckmann (1957). \"Assignment problems and the location of economic activities.\" *Econometrica*.\n",
    "\n",
    "* Shapley and Shubik (1972). The assignment game I: The core.\" *IJGT*.\n",
    "\n",
    "* Becker (1993). *A Treatise of the Family*. Harvard.\n",
    "\n",
    "* Gretsky, Ostroy, and Zame (1992). \"The nonatomic assignment model.\" *Economic Theory*.\n",
    "\n",
    "* Burkard, Dell'Amico, and Martello (2012). *Assignment Problems*. SIAM.\n",
    "\n",
    "* Dupuy and Galichon (2014). \"Personality traits and the marriage market.\" *JPE*."
   ]
  },
  {
   "cell_type": "markdown",
   "metadata": {},
   "source": [
    "## Motivation"
   ]
  },
  {
   "cell_type": "markdown",
   "metadata": {},
   "source": [
    "### Optimal Transport\n",
    "\n",
    "Consider the problem of assigning a possibly infinite number of workers\n",
    "and firms.\n",
    "\n",
    "* Each worker should work for one firm, and each firm should hire one worker.\n",
    "\n",
    "* Workers and firms have heterogenous characteristics; let $x\\in \\mathcal{X}$ and $y\\in\\mathcal{Y}$ be the characteristics of workers and firms respectively.\n",
    "\n",
    "* Workers and firms are in equal mass, which is normalized to one. The distribution of worker's types is $P$, and the distribution of the firm's types is $Q$, where $P$ and $Q$ are probability measures on $\\mathcal{X}$ and $\\mathcal{Y}$.\n",
    "\n",
    "It is assumed that if a worker $x$ matches with a firm $y$, the total output generated is $\\Phi_{xy}$. The questions are then:\n",
    "\n",
    "* **Optimality:** what is the optimal assignment in the sense that it maximizes the overal output generated?\n",
    "\n",
    "* **Equilibrium:** what are the equilibrium assignment and the equilibrium wages?\n",
    "\n",
    "* **Efficiency:** do these two notions coincide?\n",
    "\n",
    "The same tools have been used by Gary Becker to study the heterosexual marriage market, where $x$ is the man's characteristics, and $y$ is the woman's characteristics, and \"wages\" are replaced by \"transfers\"."
   ]
  },
  {
   "cell_type": "markdown",
   "metadata": {},
   "source": [
    "## Data\n",
    "\n",
    "In this block, we shall take a first look at marriage data (while a worker-firm example will be seen in next block). Dupuy and Galichon (JPE, 2014) study a marriage dataset where, in addition to usual socio-demographic variables (such as education and age), measures of personality traits are reported.\n",
    "\n",
    "* The literature on quantitative psychology argues that one can capture relatively well an individual's personality along five dimensions, the \"big 5\" - consciousness, extraversion, agreableness, emotional stability, autonomy - assessed though a standardized questionaire.\n",
    "\n",
    "* In addition to this, we observed a (self-assessed) measure of health, risk-aversion, education, height and body mass index = weight in kg/ (height in m)$^2$. In total, the available characteristics $x_{i}$ of man $i$ and $y_{j}$ of woman $j$ are both $10$-dimensional vectors.\n",
    "\n",
    "* It is assumed that the surplus of interaction is given by $\\Phi\\left(x_{i},y_{j}\\right)  =x_{i}^{\\intercal}Ay_{j}$, where $A$ is a *given* $10 \\times 10$ matrix. (later in this course, we'll see how to estimate $A$ based on matched marital data).\n",
    "\n",
    "Today, we solve a central planner's problem (a stylized version of the problem OKCupids would solve): given a population of men and a population of women, how do we mutually assign these in order to:\n",
    "\n",
    "1. maximize matching surplus \n",
    "\n",
    "2. attain a (hopefully) stable assignment."
   ]
  },
  {
   "cell_type": "code",
   "execution_count": 1,
   "metadata": {},
   "outputs": [],
   "source": [
    "using DataFrames\n",
    "using CSV\n",
    "\n",
    "thePath = joinpath(pwd(),\"..\",\"data_mec_optim\",\"marriage_personality-traits\")\n",
    "nbcar = 10 # number of characteristics\n",
    "\n",
    "data_X = CSV.read(joinpath(thePath,\"Xvals.csv\"))\n",
    "Xvals = convert(Matrix, data_X)\n",
    "\n",
    "data_Y = CSV.read(joinpath(thePath,\"Yvals.csv\"))\n",
    "Yvals = convert(Matrix, data_Y)\n",
    "\n",
    "data_aff = CSV.read(joinpath(thePath,\"affinitymatrix.csv\"));"
   ]
  },
  {
   "cell_type": "code",
   "execution_count": 2,
   "metadata": {},
   "outputs": [
    {
     "data": {
      "text/html": [
       "<table class=\"data-frame\"><thead><tr><th></th><th>educm</th><th>heightm</th><th>BMIm</th><th>healthm</th><th>consm</th><th>extram</th><th>agreem</th><th>emom</th><th>autom</th></tr><tr><th></th><th>Int64</th><th>Int64</th><th>Float64</th><th>Int64</th><th>Float64</th><th>Float64</th><th>Float64</th><th>Float64</th><th>Float64</th></tr></thead><tbody><p>6 rows × 10 columns (omitted printing of 1 columns)</p><tr><th>1</th><td>2</td><td>186</td><td>28.9051</td><td>3</td><td>-0.752877</td><td>-0.360787</td><td>-0.711276</td><td>-0.291031</td><td>0.840217</td></tr><tr><th>2</th><td>2</td><td>176</td><td>27.4406</td><td>3</td><td>0.345542</td><td>-0.805524</td><td>-0.251796</td><td>-0.305475</td><td>-0.064454</td></tr><tr><th>3</th><td>3</td><td>187</td><td>23.1634</td><td>3</td><td>-0.759678</td><td>0.898007</td><td>-0.029462</td><td>-0.672859</td><td>-0.961691</td></tr><tr><th>4</th><td>1</td><td>184</td><td>29.2415</td><td>2</td><td>-0.455688</td><td>-1.05337</td><td>-0.041612</td><td>0.436133</td><td>0.121873</td></tr><tr><th>5</th><td>1</td><td>174</td><td>23.7812</td><td>4</td><td>-1.44024</td><td>1.16373</td><td>0.29375</td><td>-0.538922</td><td>0.782285</td></tr><tr><th>6</th><td>1</td><td>186</td><td>21.9679</td><td>3</td><td>-1.0083</td><td>-0.484221</td><td>1.1553</td><td>0.267899</td><td>0.927354</td></tr></tbody></table>"
      ],
      "text/latex": [
       "\\begin{tabular}{r|cccccccccc}\n",
       "\t& educm & heightm & BMIm & healthm & consm & extram & agreem & emom & autom & \\\\\n",
       "\t\\hline\n",
       "\t& Int64 & Int64 & Float64 & Int64 & Float64 & Float64 & Float64 & Float64 & Float64 & \\\\\n",
       "\t\\hline\n",
       "\t1 & 2 & 186 & 28.9051 & 3 & -0.752877 & -0.360787 & -0.711276 & -0.291031 & 0.840217 & $\\dots$ \\\\\n",
       "\t2 & 2 & 176 & 27.4406 & 3 & 0.345542 & -0.805524 & -0.251796 & -0.305475 & -0.064454 & $\\dots$ \\\\\n",
       "\t3 & 3 & 187 & 23.1634 & 3 & -0.759678 & 0.898007 & -0.029462 & -0.672859 & -0.961691 & $\\dots$ \\\\\n",
       "\t4 & 1 & 184 & 29.2415 & 2 & -0.455688 & -1.05337 & -0.041612 & 0.436133 & 0.121873 & $\\dots$ \\\\\n",
       "\t5 & 1 & 174 & 23.7812 & 4 & -1.44024 & 1.16373 & 0.29375 & -0.538922 & 0.782285 & $\\dots$ \\\\\n",
       "\t6 & 1 & 186 & 21.9679 & 3 & -1.0083 & -0.484221 & 1.1553 & 0.267899 & 0.927354 & $\\dots$ \\\\\n",
       "\\end{tabular}\n"
      ],
      "text/plain": [
       "6×10 DataFrame. Omitted printing of 4 columns\n",
       "│ Row │ educm │ heightm │ BMIm    │ healthm │ consm     │ extram    │\n",
       "│     │ \u001b[90mInt64\u001b[39m │ \u001b[90mInt64\u001b[39m   │ \u001b[90mFloat64\u001b[39m │ \u001b[90mInt64\u001b[39m   │ \u001b[90mFloat64\u001b[39m   │ \u001b[90mFloat64\u001b[39m   │\n",
       "├─────┼───────┼─────────┼─────────┼─────────┼───────────┼───────────┤\n",
       "│ 1   │ 2     │ 186     │ 28.9051 │ 3       │ -0.752877 │ -0.360787 │\n",
       "│ 2   │ 2     │ 176     │ 27.4406 │ 3       │ 0.345542  │ -0.805524 │\n",
       "│ 3   │ 3     │ 187     │ 23.1634 │ 3       │ -0.759678 │ 0.898007  │\n",
       "│ 4   │ 1     │ 184     │ 29.2415 │ 2       │ -0.455688 │ -1.05337  │\n",
       "│ 5   │ 1     │ 174     │ 23.7812 │ 4       │ -1.44024  │ 1.16373   │\n",
       "│ 6   │ 1     │ 186     │ 21.9679 │ 3       │ -1.0083   │ -0.484221 │"
      ]
     },
     "execution_count": 2,
     "metadata": {},
     "output_type": "execute_result"
    }
   ],
   "source": [
    "first(data_X,6)"
   ]
  },
  {
   "cell_type": "code",
   "execution_count": 3,
   "metadata": {},
   "outputs": [
    {
     "data": {
      "text/html": [
       "<table class=\"data-frame\"><thead><tr><th></th><th>educv</th><th>heightv</th><th>BMIv</th><th>healthv</th><th>consv</th><th>extrav</th><th>agreev</th><th>emov</th><th>autov</th></tr><tr><th></th><th>Int64</th><th>Int64</th><th>Float64</th><th>Int64</th><th>Float64</th><th>Float64</th><th>Float64</th><th>Float64</th><th>Float64</th></tr></thead><tbody><p>6 rows × 10 columns (omitted printing of 1 columns)</p><tr><th>1</th><td>2</td><td>159</td><td>22.9421</td><td>4</td><td>-0.352262</td><td>0.065096</td><td>-0.713136</td><td>-0.529817</td><td>-0.06674</td></tr><tr><th>2</th><td>2</td><td>165</td><td>22.0386</td><td>3</td><td>-0.741707</td><td>-0.484221</td><td>0.219906</td><td>0.706937</td><td>0.685428</td></tr><tr><th>3</th><td>3</td><td>170</td><td>20.7612</td><td>3</td><td>0.327571</td><td>-0.180299</td><td>1.05207</td><td>0.999001</td><td>0.177472</td></tr><tr><th>4</th><td>2</td><td>160</td><td>22.6563</td><td>4</td><td>-0.18764</td><td>-1.29926</td><td>1.22307</td><td>0.154011</td><td>2.28434</td></tr><tr><th>5</th><td>2</td><td>165</td><td>22.7732</td><td>3</td><td>0.078951</td><td>0.613921</td><td>0.122749</td><td>0.073875</td><td>-0.253068</td></tr><tr><th>6</th><td>1</td><td>168</td><td>19.1327</td><td>3</td><td>-1.42907</td><td>0.472616</td><td>1.2408</td><td>0.695631</td><td>1.16325</td></tr></tbody></table>"
      ],
      "text/latex": [
       "\\begin{tabular}{r|cccccccccc}\n",
       "\t& educv & heightv & BMIv & healthv & consv & extrav & agreev & emov & autov & \\\\\n",
       "\t\\hline\n",
       "\t& Int64 & Int64 & Float64 & Int64 & Float64 & Float64 & Float64 & Float64 & Float64 & \\\\\n",
       "\t\\hline\n",
       "\t1 & 2 & 159 & 22.9421 & 4 & -0.352262 & 0.065096 & -0.713136 & -0.529817 & -0.06674 & $\\dots$ \\\\\n",
       "\t2 & 2 & 165 & 22.0386 & 3 & -0.741707 & -0.484221 & 0.219906 & 0.706937 & 0.685428 & $\\dots$ \\\\\n",
       "\t3 & 3 & 170 & 20.7612 & 3 & 0.327571 & -0.180299 & 1.05207 & 0.999001 & 0.177472 & $\\dots$ \\\\\n",
       "\t4 & 2 & 160 & 22.6563 & 4 & -0.18764 & -1.29926 & 1.22307 & 0.154011 & 2.28434 & $\\dots$ \\\\\n",
       "\t5 & 2 & 165 & 22.7732 & 3 & 0.078951 & 0.613921 & 0.122749 & 0.073875 & -0.253068 & $\\dots$ \\\\\n",
       "\t6 & 1 & 168 & 19.1327 & 3 & -1.42907 & 0.472616 & 1.2408 & 0.695631 & 1.16325 & $\\dots$ \\\\\n",
       "\\end{tabular}\n"
      ],
      "text/plain": [
       "6×10 DataFrame. Omitted printing of 4 columns\n",
       "│ Row │ educv │ heightv │ BMIv    │ healthv │ consv     │ extrav    │\n",
       "│     │ \u001b[90mInt64\u001b[39m │ \u001b[90mInt64\u001b[39m   │ \u001b[90mFloat64\u001b[39m │ \u001b[90mInt64\u001b[39m   │ \u001b[90mFloat64\u001b[39m   │ \u001b[90mFloat64\u001b[39m   │\n",
       "├─────┼───────┼─────────┼─────────┼─────────┼───────────┼───────────┤\n",
       "│ 1   │ 2     │ 159     │ 22.9421 │ 4       │ -0.352262 │ 0.065096  │\n",
       "│ 2   │ 2     │ 165     │ 22.0386 │ 3       │ -0.741707 │ -0.484221 │\n",
       "│ 3   │ 3     │ 170     │ 20.7612 │ 3       │ 0.327571  │ -0.180299 │\n",
       "│ 4   │ 2     │ 160     │ 22.6563 │ 4       │ -0.18764  │ -1.29926  │\n",
       "│ 5   │ 2     │ 165     │ 22.7732 │ 3       │ 0.078951  │ 0.613921  │\n",
       "│ 6   │ 1     │ 168     │ 19.1327 │ 3       │ -1.42907  │ 0.472616  │"
      ]
     },
     "execution_count": 3,
     "metadata": {},
     "output_type": "execute_result"
    }
   ],
   "source": [
    "first(data_Y,6)"
   ]
  },
  {
   "cell_type": "code",
   "execution_count": 4,
   "metadata": {},
   "outputs": [
    {
     "data": {
      "text/html": [
       "<table class=\"data-frame\"><thead><tr><th></th><th>Column1</th><th>educw</th><th>heightw</th><th>BMIw</th><th>healthw</th><th>consw</th><th>extraw</th><th>agreew</th><th>emow</th></tr><tr><th></th><th>String⍰</th><th>Float64⍰</th><th>Float64⍰</th><th>Float64⍰</th><th>Float64⍰</th><th>Float64⍰</th><th>Float64⍰</th><th>Float64⍰</th><th>Float64⍰</th></tr></thead><tbody><p>6 rows × 11 columns (omitted printing of 2 columns)</p><tr><th>1</th><td>educm</td><td>0.56</td><td>0.02</td><td>-0.08</td><td>0.02</td><td>-0.04</td><td>-0.01</td><td>-0.03</td><td>-0.04</td></tr><tr><th>2</th><td>heightm</td><td>0.01</td><td>0.18</td><td>0.04</td><td>-0.01</td><td>-0.04</td><td>0.05</td><td>0.02</td><td>0.02</td></tr><tr><th>3</th><td>BMIm</td><td>-0.05</td><td>0.05</td><td>0.21</td><td>0.01</td><td>0.06</td><td>0.0</td><td>-0.04</td><td>0.04</td></tr><tr><th>4</th><td>healthm</td><td>-0.07</td><td>0.0</td><td>-0.06</td><td>0.14</td><td>-0.04</td><td>0.05</td><td>-0.04</td><td>0.04</td></tr><tr><th>5</th><td>consm</td><td>-0.06</td><td>-0.03</td><td>0.07</td><td>0.0</td><td>0.14</td><td>0.07</td><td>0.04</td><td>0.06</td></tr><tr><th>6</th><td>extram</td><td>0.01</td><td>-0.02</td><td>0.05</td><td>0.02</td><td>-0.06</td><td>0.02</td><td>-0.02</td><td>-0.01</td></tr></tbody></table>"
      ],
      "text/latex": [
       "\\begin{tabular}{r|cccccccccc}\n",
       "\t& Column1 & educw & heightw & BMIw & healthw & consw & extraw & agreew & emow & \\\\\n",
       "\t\\hline\n",
       "\t& String⍰ & Float64⍰ & Float64⍰ & Float64⍰ & Float64⍰ & Float64⍰ & Float64⍰ & Float64⍰ & Float64⍰ & \\\\\n",
       "\t\\hline\n",
       "\t1 & educm & 0.56 & 0.02 & -0.08 & 0.02 & -0.04 & -0.01 & -0.03 & -0.04 & $\\dots$ \\\\\n",
       "\t2 & heightm & 0.01 & 0.18 & 0.04 & -0.01 & -0.04 & 0.05 & 0.02 & 0.02 & $\\dots$ \\\\\n",
       "\t3 & BMIm & -0.05 & 0.05 & 0.21 & 0.01 & 0.06 & 0.0 & -0.04 & 0.04 & $\\dots$ \\\\\n",
       "\t4 & healthm & -0.07 & 0.0 & -0.06 & 0.14 & -0.04 & 0.05 & -0.04 & 0.04 & $\\dots$ \\\\\n",
       "\t5 & consm & -0.06 & -0.03 & 0.07 & 0.0 & 0.14 & 0.07 & 0.04 & 0.06 & $\\dots$ \\\\\n",
       "\t6 & extram & 0.01 & -0.02 & 0.05 & 0.02 & -0.06 & 0.02 & -0.02 & -0.01 & $\\dots$ \\\\\n",
       "\\end{tabular}\n"
      ],
      "text/plain": [
       "6×11 DataFrame. Omitted printing of 5 columns\n",
       "│ Row │ Column1 │ educw    │ heightw  │ BMIw     │ healthw  │ consw    │\n",
       "│     │ \u001b[90mString⍰\u001b[39m │ \u001b[90mFloat64⍰\u001b[39m │ \u001b[90mFloat64⍰\u001b[39m │ \u001b[90mFloat64⍰\u001b[39m │ \u001b[90mFloat64⍰\u001b[39m │ \u001b[90mFloat64⍰\u001b[39m │\n",
       "├─────┼─────────┼──────────┼──────────┼──────────┼──────────┼──────────┤\n",
       "│ 1   │ educm   │ 0.56     │ 0.02     │ -0.08    │ 0.02     │ -0.04    │\n",
       "│ 2   │ heightm │ 0.01     │ 0.18     │ 0.04     │ -0.01    │ -0.04    │\n",
       "│ 3   │ BMIm    │ -0.05    │ 0.05     │ 0.21     │ 0.01     │ 0.06     │\n",
       "│ 4   │ healthm │ -0.07    │ 0.0      │ -0.06    │ 0.14     │ -0.04    │\n",
       "│ 5   │ consm   │ -0.06    │ -0.03    │ 0.07     │ 0.0      │ 0.14     │\n",
       "│ 6   │ extram  │ 0.01     │ -0.02    │ 0.05     │ 0.02     │ -0.06    │"
      ]
     },
     "execution_count": 4,
     "metadata": {},
     "output_type": "execute_result"
    }
   ],
   "source": [
    "first(data_aff,6)"
   ]
  },
  {
   "cell_type": "markdown",
   "metadata": {},
   "source": [
    "## The Discrete Monge-Kantorovich Theorem\n",
    "\n",
    "### Discrete case\n",
    "Assume that the type spaces $\\mathcal{X}$ and $\\mathcal{Y}$ are finite, so $\\mathcal{X=}\\left\\{  1,...,N\\right\\}  $, and $\\mathcal{Y}=\\left\\{1,...,M\\right\\}$.\n",
    "\n",
    "The total mass of workers and jobs is normalized to one. The mass of workers of type $x$ is $p_{x}$; the mass of jobs of type $y$ is $q_{y}$, with $\\sum_{x}p_{x}=\\sum_{y}q_{y}=1$.\n",
    "\n",
    "Let $\\pi_{xy}$ be the mass of workers of type $x$ assigned to jobs of type $y$. Every worker is busy and every job is filled, thus\n",
    "\n",
    "<a name=\"dicsr-constraints\"></a>\n",
    "\\begin{align*}\n",
    "\\sum_{y\\in\\mathcal{Y}}\\pi_{xy}=p_{x}\\text{ and }\\sum_{x\\in\\mathcal{X}}\\pi\n",
    "_{xy}=q_{y}. \n",
    "\\end{align*}\n",
    "\n",
    "(Note that this formulation allows for mixing, i.e. it allows for $\\pi_{xy}>0$ and $\\pi_{xy^{\\prime}}>0$ to hold simultaneously with $y\\neq y^{\\prime}$.) The set of $\\pi\\geq0$ satisfying [the discrete contraints](#dicsr-constraints) is denoted by\n",
    "\n",
    "\\begin{align*}\n",
    "\\pi\\in\\mathcal{M}\\left(p,q\\right).\n",
    "\\end{align*}\n",
    "\n",
    "Assume the economic output created when assigning worker $x$ to job $y$ is $\\Phi_{xy}$. Hence, under assignment $\\pi$, the total output is $\\sum _{xy}\\pi_{xy}\\Phi_{xy}$.\n",
    "\n",
    "Thus, the optimal assignment is\n",
    "\n",
    "<a name=\"OAP\"></a>\n",
    "\\begin{align*}\n",
    "\\max_{\\pi\\geq0}  &  \\sum_{xy}\\pi_{xy}\\Phi_{xy} \\\\\n",
    "s.t.~  &  \\sum_{y\\in\\mathcal{Y}}\\pi_{xy}=p_{x} \\left[u_{x}\\right] \\\\\n",
    "&  \\sum_{x\\in\\mathcal{X}}\\pi_{xy}=q_{y}~\\left[v_{y}\\right]\n",
    "\\end{align*}\n",
    "\n",
    "and it is now a finite-dimensional linear programming problem.\n",
    "\n",
    "Note that it is nothing else than the Monge-Kantorovich problem when $P$ and $Q$ are discrete probability measures on $\\mathcal{X=}\\left\\{1,...,N\\right\\}  $, and $\\mathcal{Y}=\\left\\{  1,...,M\\right\\}$."
   ]
  },
  {
   "cell_type": "markdown",
   "metadata": {},
   "source": [
    "---\n",
    "**Theorem**\n",
    "1. The value of the [primal problem](#OAP) *coincides with the value of the dual problem*\n",
    "\n",
    "    <a name=\"dual-discr\"></a>\n",
    "    \\begin{align*}\n",
    "    \\min_{u,v}  &  \\sum_{x\\in\\mathcal{X}}p_{x}u_{x}+\\sum_{y\\in\\mathcal{Y}}\n",
    "    q_{y}v_{y}\\\\\n",
    "    s.t.  &  u_{x}+v_{y}\\geq\\Phi_{xy}~\\left[\\pi_{xy}\\geq0\\right]\n",
    "    \\end{align*}\n",
    "\n",
    "2. Both the primal and the dual problems have optimal solutions. If $\\pi$ *is a solution to the primal problem* and $\\left(u,v\\right)$ is *a solution to the dual problem, then by complementary slackness*,\n",
    "\n",
    "    <a name=\"complSlack\"> </a>\n",
    "    \\begin{align*}\n",
    "    \\pi_{xy}>0\\text{ implies }u_{x}+v_{y}=\\Phi_{xy}.\n",
    "    \\end{align*}\n",
    "\n",
    "---\n",
    "\n",
    "---\n",
    "**Proof**\n",
    "The proof follows from the min-cost flow duality result, but let us rewrite it anyway. \n",
    "\n",
    "1. The value of the [primal problem](#OAP) can be written as $\\max_{\\pi\\geq0}\\min_{u,v}S\\left(  \\pi,u,v\\right)$, where\n",
    "\n",
    "    \\begin{align*}\n",
    "    S\\left(  \\pi,u,v\\right)  :=\\sum_{xy}\\pi_{xy}\\Phi_{xy}+\\sum_{x\\in\\mathcal{X}}u_{x}(p_{x}-\\sum_{y\\in\\mathcal{Y}}\\pi_{xy})+\\sum_{y\\in\\mathcal{Y}}v_{y}(q_{y}-\\sum_{x\\in\\mathcal{X}}\\pi_{xy})\n",
    "    \\end{align*}\n",
    "\n",
    "    but by the minmax theorem, this value is equal to $\\min_{u,v}\\max_{\\pi\\geq 0}S\\left(  \\pi,u,v\\right)$, which is the value of the [dual problem](#ual-discr}).\n",
    "\n",
    "2. Follows by noting that, for a primal solution $\\pi$ and a dual solution $\\left(  u,v\\right)  $, then $S\\left( \\pi,u,v\\right)  =\\sum_{xy}\\pi_{xy} \\Phi_{xy}$. $\\blacksquare$\n",
    "\n",
    "---\n",
    "\n",
    "Note that this result is the min-cost flow duality theorem in the bipartite case, as seen in lecture $2$, after setting transportation cost through $xy\\in\\mathcal{X}\\times\\mathcal{Y}$ to $c_{xy}=-\\Phi_{xy}$, and $n_{t}=-p_{t}1\\left\\{  t\\in\\mathcal{X}\\right\\}  +q_{t}\\mathbf{1}\\left\\{  t\\in\\mathcal{Y}\\right\\}$. We see various new interpretations of the result."
   ]
  },
  {
   "cell_type": "markdown",
   "metadata": {},
   "source": [
    "The following statements are equivalent:\n",
    "\n",
    "* $\\pi$ is an optimal solution to the primal problem, and $\\left(\n",
    "u,v\\right)  $ is an optimal solution to the dual problem, and\n",
    "\n",
    "* (i) $\\pi\\in M\\left(  p,q\\right)  $\n",
    "\n",
    "* (ii) $u_{x}+v_{y}\\geq\\Phi_{xy}$\n",
    "\n",
    "* (iii) $\\pi_{xy}>0$ implies $u_{x}+v_{y}\\leq\\Phi_{xy}$.\n",
    "\n",
    "We saw the direct implication. But the converse is easy: take $\\pi$ and $\\left(  u,v\\right)  $ satisfying (i)--(iii), Then one has\n",
    "\n",
    "\\begin{align*}\n",
    "dual\\leq\\sum_{x}p_{x}u_{x}+\\sum_{y}q_{y}v_{y}=\\sum_{xy}\\pi_{xy}\\left(\n",
    "u_{x}+v_{y}\\right)  \\leq\\sum_{xy}\\pi_{xy}\\Phi_{xy}\\leq primal\n",
    "\\end{align*}\n",
    "\n",
    "but by the MK duality theorem, both ends coincide. Thus $\\pi$ is optimal for the primal and $\\left(  u,v\\right)  $ for the dual."
   ]
  },
  {
   "cell_type": "markdown",
   "metadata": {},
   "source": [
    "### Unassigned Agents\n",
    "\n",
    "A important variant of the problem exists with $\\sum_{x\\in\\mathcal{X}}p_{x}\\neq\\sum_{y\\in\\mathcal{Y}}q_{y}$ and the primal constraints become inequality constraints. The duality then becomes\n",
    "\n",
    "\\begin{align*}\n",
    "\\begin{array}\n",
    "[c]{rrr}\n",
    "\\max_{\\pi\\geq0}\\sum\\pi_{xy}\\Phi_{xy} & = & \\min_{u,v}\\sum_{x\\in\\mathcal{X}\n",
    "}p_{x}u_{x}+\\sum_{y\\in\\mathcal{Y}}q_{y}v_{y}\\\\\n",
    "s.t.~\\sum_{y\\in\\mathcal{Y}}\\pi_{xy}\\leq p_{x} &  & u\\geq0,~v\\geq0 \\\\\n",
    "\\sum_{x\\in\\mathcal{X}}\\pi_{xy}\\leq q_{y} &  & u_{x}+v_{y}\\geq\\Phi_{xy}\n",
    "\\end{array}\n",
    "\\end{align*}"
   ]
  },
  {
   "cell_type": "markdown",
   "metadata": {},
   "source": [
    "### Pairwise stability\n",
    "\n",
    "In a marriage context, an important concept is stability:\n",
    "\n",
    "An outcome is a vector $\\left(  \\pi,u,v\\right)  $, where $u_{x}$ and $v_{y}$ are $x$'s and $y$'s payoffs, and $\\pi$ is a matching that is\n",
    "\n",
    "<a name=\"primFeas\"></a>\n",
    "\\begin{align*}\n",
    "\\pi\\in\\mathcal{M}\\left(  p,q\\right).\n",
    "\\end{align*}\n",
    "\n",
    "A pair $xy$ is blocking if $x$ and $y$ can find a way of sharing their joint surplus $\\Phi_{xy}$ in such a way that $x$ gets more than $u_{x}$ and $y$ gets more than $v_{y}$. Hence there is no blocking pair if and only if for every $x$ and $y$, one has\n",
    "\n",
    "<a name=\"noBlocking\"></a>\n",
    "\\begin{align*}\n",
    "u_{x}+v_{y}\\geq\\Phi_{xy}.\n",
    "\\end{align*}\n",
    "\n",
    "If $x$ and $y$ are actually matched, their utilities $u_{x}$ and $v_{y}$ need to be feasible, i.e. the above inequality should be saturated. Hence\n",
    "\n",
    "<a name=\"cplSlck\"></a>\n",
    "\\begin{align*}\n",
    "\\pi_{xy}>0\\text{ implies }u_{x}+v_{y}=\\Phi_{xy}.\n",
    "\\end{align*}\n",
    "\n",
    "---\n",
    "**Definition:**\n",
    "\n",
    "A matching that satisfies [primal feasbilitity](#primFeas), [no blocking](#noBlocking), and [complementary slackness](#cplSlck) is called a stable matching.\n",
    "\n",
    "As it turns out, these conditions are precisely the conditions that express complementarity slackness in the Monge-Kantorovich problem. Therefore, outcome$\\left(  \\pi,u,v\\right)  $ is stable if and only if $\\pi$ is a solution to the primal problem, and $\\left(  u,v\\right)  $ is a solution to the dual problem.\n",
    "\n",
    "---\n"
   ]
  },
  {
   "cell_type": "markdown",
   "metadata": {},
   "source": [
    "Back to the workers / firms interpretation and assume for now that workers are indifferent between any two firms that offer the same salary. We argue that $u\\left(  x\\right)  $ can be interpreted as the equilibrium wage of worker $x$, while $v\\left(  y\\right)  $ can be interpreted as the equilibrium profit of firm $y$. Indeed:\n",
    "\n",
    "---\n",
    "**Proposition**\n",
    "If $\\left(u,v\\right)$ is a solution to the dual of the Kantorovich problem, then\n",
    "\n",
    "\\begin{align*}\n",
    "u_{x}  &  =\\sup_{y\\in\\mathcal{Y}}\\left(  \\Phi_{xy}-v_{y}\\right)\n",
    "\\label{conjug1}\\\\\n",
    "v_{y}  &  =\\sup_{x\\in\\mathcal{X}}\\left(  \\Phi_{xy}-u_{x}\\right)  .\n",
    "\\label{conjug2}\n",
    "\\end{align*}\n",
    "\n",
    "---\n",
    "\n",
    "Therefore, $u_{x}$ can be interpreted as equilibrium wage of worker $x$, and $v_{y}$ as equilibrium profit of firm $y$. In this interpretation, all workers get the same wage at equilibrium.\n",
    "\n",
    "Assume now that if a worker of type $x$ works for a firm of type $y$ for wage $w_{xy}$, then gets $\\alpha_{xy}+w_{xy}$, where $\\alpha_{xy}$ is the nonmonetary payoff associated with working with a firm of type $y$. The firm's profit is $\\gamma_{xy}-w_{xy}$, where $\\gamma_{xy}$ is the economic output.\n",
    "\n",
    "If an employee of type $x$ matches with a firm of type $y$, they generate joint surplus $\\Phi_{xy}$, given by%\n",
    "\n",
    "\\begin{align*}\n",
    "\\Phi_{xy}=\\underset{\\text{employee's payoff}}{\\underbrace{\\alpha_{xy}+w_{xy}}}+\\underset{\\text{firm's payoff}}{\\underbrace{\\gamma_{xy}-w_{xy}}}=\\alpha_{xy}+\\gamma_{xy}\n",
    "\\end{align*}\n",
    "\n",
    "which is independent from $w$.\n",
    "\n",
    "Workers choose firms which maximize their utility, i.e. solve \n",
    "\n",
    "<a name=\"equivWalrasStable1\"></a>\n",
    "\\begin{align*}\n",
    "u_{x}=\\max_{y}\\left\\{  \\alpha_{xy}+w_{xy}\\right\\}\n",
    "\\end{align*}\n",
    "\n",
    "and $u_{x}=\\alpha_{xy}+w_{xy}$ if $x$ and $y$ are matched. Similarly, the indirect payoff vector of firms is\n",
    "\n",
    "<a name=\"equivWalrasStable2\"></a>\n",
    "\\begin{align*}\n",
    "v_{y}=\\max_{x}\\left\\{  \\gamma_{xy}-w_{xy}\\right\\}\n",
    "\\end{align*}\n",
    "\n",
    "and, again, $v_{y}=\\gamma_{xy}-w_{xy}$ if $x$ and $y$ are matched.\n",
    "\n",
    "As a result,\n",
    "\n",
    "\\begin{align*}\n",
    "u_{x}+v_{y}\\geq\\alpha_{xy}+\\gamma_{xy}=\\Phi_{xy}\n",
    "\\end{align*}\n",
    "\n",
    "and equality holds if $x$ and $y$ are matched. Thus, if $w_{xy}$ is an equilibrium wage, then the triple $\\left(  \\pi,u,v\\right)$ where $\\pi$ is the corresponding matching, and $u_{x}$ and $v_{y}$ are defined by [this](#equivWalrasStable1) and [this](#equivWalrasStable2) defines a stable outcome.\n",
    "\n",
    "Conversely, let $\\left(\\pi,u,v\\right)$ be a stable outcome. Then let $\\bar{w}_{xx}$ and \\b{w}$_{xy}$ be defined by\n",
    "\n",
    "\\begin{align*}\n",
    "\\bar{w}_{xy}=u_{x}-\\alpha_{xy}\\text{ and \\b{w}}_{xy}=\\gamma_{xy}-v_{y}.\n",
    "\\end{align*}\n",
    "\n",
    "One has $\\bar{w}_{xy}\\geq$\\b{w}$_{xy}$. Any $w_{xy}$ such that $\\bar{w}_{xy}\\geq w_{xy}\\geq$\\b{w}$_{xy}$ is an equilibrium wage. Indeed, $\\pi_{xy}>0$ implies $\\bar{w}_{xy}=$\\b{w}$_{xy}$, thus [this](#equivWalrasStable1) and [this](#equivWalrasStable2) hold. Given $u$ and $v$, $w_{xy}$ is uniquely defined on the equilibrium path (ie. when $x$ and $y$ are such that $\\pi_{xy}>0$), but there are multiple choices of $w$ outside the equilibrium path.\n",
    "\n",
    "Note that all workers of the same type get the same indirect utility, but not necessarly the same wage."
   ]
  },
  {
   "cell_type": "markdown",
   "metadata": {},
   "source": [
    "## Application"
   ]
  },
  {
   "cell_type": "markdown",
   "metadata": {},
   "source": [
    "We postulate that the form of the surplus function is\n",
    "\\begin{align*}\n",
    "\\Phi_{ij}=x_{i}^{\\intercal} Ay_{j}\n",
    "\\end{align*}\n",
    "where $x_{i}$ and $y_{j}$ are the 10-dimensional characteristics of man $i$ and woman $j$, and the form of $A$, a 10x10 matrix, is given (it is stored in the file `affinitymatrix.csv`). Again, we'll see later how to solve the econometrics problem of estimating $A$."
   ]
  },
  {
   "cell_type": "code",
   "execution_count": 5,
   "metadata": {},
   "outputs": [],
   "source": [
    "# standardize characteristics\n",
    "\n",
    "using Statistics\n",
    "A = convert(Matrix,data_aff[1:nbcar,2:nbcar+1])\n",
    "Yvals_std = (Yvals .- mean(Yvals,dims = 1)) ./ std(Yvals,dims = 1)\n",
    "Xvals_std = (Xvals .- mean(Xvals,dims = 1)) ./ std(Xvals,dims = 1)\n",
    "Φ = Xvals_std * A * Yvals_std';"
   ]
  },
  {
   "cell_type": "markdown",
   "metadata": {},
   "source": [
    "This problem of computation of the Optimal Assignment Problem, more specifically of $\\left(\\pi,u,v\\right)$, is arguably the most studied problem in Computer Science, and dozens, if not hundreds of algorithms exist, whose running time is polynomial in $\\max\\left(n,m\\right)$, typically a power less than three of the latter.\n",
    "\n",
    "Famous algorithms include: the Hungarian algorithm (Kuhn-Munkres); Bertsekas' auction algorithm; Goldberg and Kennedy's pseudoflow algorithm. For more on these, see the book by Burkard, Dell'Amico, and Martello, and a\n",
    "introductory presentation in http://www.assignmentproblems.com/doc/LSAPIntroduction.pdf.\n",
    "\n",
    "Here, we will show how to solve the problem with the help of a Linear Programming solver used as a black box; our challenge here will be to carefully set up the constraint matrix as a sparse matrix in order to let a large scale Linear Programming solvers such as Gurobi recognize and exploit the sparsity of the problem.\n",
    "\n",
    "Let $\\Pi$ and $\\Phi$ be the matrices with typical elements $\\left(\\pi_{xy}\\right)  $ and $\\left(  \\Phi_{xy}\\right)  $. We let $p$, $q$, $u$,$v$, and $1$ the column vectors with entries $\\left(  p_{x}\\right)$, $\\left(  q_{y}\\right)  $, $\\left(  u_{x}\\right)  $, $\\left(  v_{y}\\right)$, and $1$, respectively. The optimal assignment problem\n",
    "\n",
    "\\begin{align*}\n",
    "\\max_{\\pi\\geq0}  &  \\sum_{xy}\\pi_{xy}\\Phi_{xy} \\\\\n",
    "s.t.~  &  \\sum_{y\\in\\mathcal{Y}}\\pi_{xy}=p_{x}~\\left[  u_{x}\\right]\\\\\n",
    "&  \\sum_{x\\in\\mathcal{X}}\\pi_{xy}=q_{y}~\\left[  v_{y}\\right] \n",
    "\\end{align*}\n",
    "\n",
    "---\n",
    "\n",
    "Up to here is the math formulation of this problem. what comes next is usually needed to **translate** the maths into a form that a LP solver understands. We can skip this now.\n",
    "\n",
    "Can be rewritten writes using matrix algebra as\n",
    "\n",
    "\\begin{align*}\n",
    "&  \\max_{\\Pi\\geq0}Tr\\left(  \\Pi^{\\prime}\\Phi\\right) \\\\\n",
    "&  \\Pi1_{M}=p\\\\\n",
    "&  1_{N}^{\\prime}\\Pi=q^{\\prime}.\n",
    "\\end{align*}\n",
    "\n",
    "We need to convert matrices into vectors; this can be done for instance by stacking the columns of $\\Pi$ into a single column vector. This operation is called *vectorization*, which we will denote\n",
    "\n",
    "\\begin{align*}\n",
    "vec\\left(  A\\right)  ,\n",
    "\\end{align*}\n",
    "\n",
    "which reshapes a $N\\times M$ matrix into a $nm\\times1$ vector. In `R`, this is\n",
    "implemented by `c(A)`; in Matlab, by `A(:)`.\n",
    "\n",
    "The objective function rewrites as\n",
    "\n",
    "\\begin{align*}\n",
    "vec\\left(  \\Phi\\right)^{\\prime}vec\\left(  \\Pi\\right)  .\n",
    "\\end{align*}\n",
    "\n",
    "---\n",
    "\n",
    "Instead, we just type up the proper mathematical formulation!"
   ]
  },
  {
   "cell_type": "code",
   "execution_count": 7,
   "metadata": {},
   "outputs": [
    {
     "name": "stdout",
     "output_type": "stream",
     "text": [
      "Academic license - for non-commercial use only\n",
      "Academic license - for non-commercial use only\n",
      "Optimize a model with 2316 rows, 1340964 columns and 2681928 nonzeros\n",
      "Coefficient statistics:\n",
      "  Matrix range     [1e+00, 1e+00]\n",
      "  Objective range  [2e-07, 8e+00]\n",
      "  Bounds range     [1e+00, 1e+00]\n",
      "  RHS range        [9e-04, 9e-04]\n",
      "\n",
      "Concurrent LP optimizer: dual simplex and barrier\n",
      "Showing barrier log only...\n",
      "\n",
      "Presolve time: 2.61s\n",
      "Presolved: 2316 rows, 1340964 columns, 2681928 nonzeros\n",
      "\n",
      "Ordering time: 0.02s\n",
      "\n",
      "Barrier statistics:\n",
      " AA' NZ     : 1.341e+06\n",
      " Factor NZ  : 2.683e+06 (roughly 600 MBytes of memory)\n",
      " Factor Ops : 4.144e+09 (less than 1 second per iteration)\n",
      " Threads    : 3\n",
      "\n",
      "                  Objective                Residual\n",
      "Iter       Primal          Dual         Primal    Dual     Compl     Time\n",
      "   0   4.18942658e-13 -0.00000000e+00  1.16e+02 7.60e+00  4.27e-01     4s\n",
      "   1   1.15775556e+03  8.71139303e+00  7.89e+00 4.66e-15  2.93e-02     4s\n",
      "   2   2.31023319e-01  8.71708682e+00  6.89e-14 1.32e-14  3.16e-06     4s\n",
      "   3   4.24562145e-01  3.13377084e+00  5.39e-17 7.22e-14  1.01e-06     5s\n",
      "   4   8.12270069e-01  2.13412081e+00  1.36e-16 4.21e-14  4.93e-07     5s\n",
      "   5   1.27302672e+00  1.84638756e+00  1.55e-16 3.27e-14  2.14e-07     6s\n",
      "   6   1.50323998e+00  1.77678991e+00  1.78e-16 3.10e-14  1.02e-07     6s\n",
      "   7   1.59420866e+00  1.74147941e+00  9.47e-15 2.68e-14  5.49e-08     7s\n",
      "   8   1.65666630e+00  1.72156687e+00  2.41e-15 2.54e-14  2.42e-08     7s\n",
      "   9   1.68198792e+00  1.71246236e+00  1.01e-15 2.37e-14  1.14e-08     7s\n",
      "\n",
      "Barrier performed 9 iterations in 7.24 seconds\n",
      "Barrier solve interrupted - model solved by another algorithm\n",
      "\n",
      "\n",
      "Solved with dual simplex\n",
      "Solved in 62813 iterations and 7.29 seconds\n",
      "Optimal objective  1.703883022e+00\n",
      "termination_status(mo) = OPTIMAL::TerminationStatusCode = 1\n",
      "objective_value(mo) = 1.7038830224565737\n",
      "man number 1 matches with woman number 576\n"
     ]
    }
   ],
   "source": [
    "# Enter JuMP: Julia Mathematical Programming\n",
    "# docs are here http://www.juliaopt.org/JuMP.jl/stable/\n",
    "\n",
    "using JuMP\n",
    "using Gurobi  # can use any LP solver you want instead.\n",
    "\n",
    "n,m = size(Φ)\n",
    "p = fill(1/n,n)\n",
    "q = fill(1/m,m)\n",
    "\n",
    "function marriage()\n",
    "    mo = Model(with_optimizer(Gurobi.Optimizer))\n",
    "    @variable(mo, 0 <= π[1:n,1:m] <= 1)\n",
    "    @objective(mo, Max, sum( sum( π[ix,iy]*Φ[ix,iy] for iy in 1:m) for ix in 1:n))\n",
    "    @constraint(mo, conx[ix = 1:n], sum(π[ix,:]) == p[ix])\n",
    "    @constraint(mo, cony[iy = 1:m], sum(π[:,iy]) == q[iy])\n",
    "    optimize!(mo)\n",
    "    \n",
    "    @show termination_status(mo)\n",
    "    @show objective_value(mo)\n",
    "    println(\"man number 1 matches with woman number $(findfirst(value.(π)[1,:] .> 0))\")\n",
    "end\n",
    "\n",
    "marriage()"
   ]
  },
  {
   "cell_type": "code",
   "execution_count": 5,
   "metadata": {},
   "outputs": [
    {
     "name": "stdout",
     "output_type": "stream",
     "text": [
      "[1] \"Value of the problem (Gurobi) = 1.70388302245657\"\n",
      " [1] 1.922803 1.286440 2.351599 3.030279 3.741377 2.725222 1.252313 1.988384\n",
      " [9] 1.445145 1.525087\n",
      " [1] -0.7409078 -0.9616074  0.6039734 -0.2880301 -1.1140921 -0.1014630\n",
      " [7] -0.6873566  0.5351975 -0.5838891 -0.1083689\n"
     ]
    }
   ],
   "source": [
    "# this was the original R call and result\n",
    "\n",
    "result = gurobi(list(A = A, obj = obj, modelsense = \"max\", rhs = d, sense = \"=\"), \n",
    "    params = list(OutputFlag = 0))\n",
    "if (result$status == \"OPTIMAL\") {\n",
    "    pi = matrix(result$x, nrow = N)\n",
    "    u = result$pi[1:N]\n",
    "    v = result$pi[(N + 1):(N + M)]\n",
    "    val = result$objval\n",
    "} else {\n",
    "    stop(\"optimization problem with Gurobi.\")\n",
    "}\n",
    "\n",
    "print(paste0(\"Value of the problem (Gurobi) = \", val))\n",
    "print(u[1:10])\n",
    "print(v[1:10])"
   ]
  },
  {
   "cell_type": "markdown",
   "metadata": {},
   "source": [
    "**R result!** Who does man $1$ match with?"
   ]
  },
  {
   "cell_type": "code",
   "execution_count": 6,
   "metadata": {},
   "outputs": [
    {
     "name": "stdout",
     "output_type": "stream",
     "text": [
      "[1] \"Woman 576\"\n"
     ]
    }
   ],
   "source": [
    "# print(paste('Woman', which(pi[1,]!=0)))"
   ]
  },
  {
   "cell_type": "code",
   "execution_count": 12,
   "metadata": {},
   "outputs": [
    {
     "name": "stdout",
     "output_type": "stream",
     "text": [
      "termination_status(mo) = OPTIMAL::TerminationStatusCode = 1\n",
      "objective_value(mo) = 1.7038830224565737\n",
      "that was solver: GLPK.Optimizer\n",
      "man number 1 matches with woman number 576\n"
     ]
    }
   ],
   "source": [
    "# wait a moment: you said \"any LP solver you want\"? \n",
    "# right.\n",
    "\n",
    "function marriage(solver)\n",
    "    mo = Model(with_optimizer(solver))\n",
    "    @variable(mo, 0 <= π[1:n,1:m] <= 1)\n",
    "    @objective(mo, Max, sum( sum( π[ix,iy]*Φ[ix,iy] for iy in 1:m) for ix in 1:n))\n",
    "    @constraint(mo, conx[ix = 1:n], sum(π[ix,:]) == p[ix])\n",
    "    @constraint(mo, cony[iy = 1:m], sum(π[:,iy]) == q[iy])\n",
    "    optimize!(mo)\n",
    "    \n",
    "    @show termination_status(mo)\n",
    "    @show objective_value(mo)\n",
    "    println(\"that was solver: $solver\")\n",
    "    println(\"man number 1 matches with woman number $(findfirst(value.(π)[1,:] .> 0))\")\n",
    "end\n",
    "\n",
    "using GLPK\n",
    "marriage(GLPK.Optimizer) \n",
    "\n",
    "# can use others...\n",
    "# using OSQP\n",
    "# marriage(OSQP.Optimizer) \n",
    "\n",
    "# the ability to have a completely abstract optimization interface is very powerful. It's \n",
    "# to be able to verify results from solver x with solver y. without a common interface, this will\n",
    "# never be done, because the analyst has to learn two different interfaces and can't be bothered!"
   ]
  }
 ],
 "metadata": {
  "@webio": {
   "lastCommId": null,
   "lastKernelId": null
  },
  "kernelspec": {
   "display_name": "Julia 1.1.0",
   "language": "julia",
   "name": "julia-1.1"
  },
  "language_info": {
   "file_extension": ".jl",
   "mimetype": "application/julia",
   "name": "julia",
   "version": "1.1.0"
  }
 },
 "nbformat": 4,
 "nbformat_minor": 2
}
