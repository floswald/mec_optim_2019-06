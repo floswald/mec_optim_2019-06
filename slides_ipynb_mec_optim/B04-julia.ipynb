{
 "cells": [
  {
   "cell_type": "markdown",
   "metadata": {},
   "source": [
    "# <center>Block 4: Discrete optimal transport</center>\n",
    "### <center>Alfred Galichon (NYU)</center>\n",
    "## <center>`math+econ+code' masterclass on matching models, optimal transport and applications</center>\n",
    "<center>© 2018-2019 by Alfred Galichon. Support from NSF grant DMS-1716489 is acknowledged. James Nesbit contributed.</center>"
   ]
  },
  {
   "cell_type": "markdown",
   "metadata": {},
   "source": [
    "## Optimal Transport I: Discrete Transport"
   ]
  },
  {
   "cell_type": "markdown",
   "metadata": {},
   "source": [
    "### Learning Objectives\n",
    "\n",
    "* Optimal assignment problem\n",
    "\n",
    "* Pairwise stability, Walrasian equilibrium\n",
    "\n",
    "* Computation"
   ]
  },
  {
   "cell_type": "markdown",
   "metadata": {},
   "source": [
    "### References\n",
    "\n",
    "* [OTME], Ch. 3\n",
    "\n",
    "* Roth, Sotomayor(1990). *Two-Sided Matching*. Cambridge.\n",
    "\n",
    "* Koopmans and Beckmann (1957). \"Assignment problems and the location of economic activities.\" *Econometrica*.\n",
    "\n",
    "* Shapley and Shubik (1972). The assignment game I: The core.\" *IJGT*.\n",
    "\n",
    "* Becker (1993). *A Treatise of the Family*. Harvard.\n",
    "\n",
    "* Gretsky, Ostroy, and Zame (1992). \"The nonatomic assignment model.\" *Economic Theory*.\n",
    "\n",
    "* Burkard, Dell'Amico, and Martello (2012). *Assignment Problems*. SIAM.\n",
    "\n",
    "* Dupuy and Galichon (2014). \"Personality traits and the marriage market.\" *JPE*."
   ]
  },
  {
   "cell_type": "markdown",
   "metadata": {},
   "source": [
    "## Motivation"
   ]
  },
  {
   "cell_type": "markdown",
   "metadata": {},
   "source": [
    "### Optimal Transport\n",
    "\n",
    "Consider the problem of assigning a possibly infinite number of workers\n",
    "and firms.\n",
    "\n",
    "* Each worker should work for one firm, and each firm should hire one worker.\n",
    "\n",
    "* Workers and firms have heterogenous characteristics; let $x\\in \\mathcal{X}$ and $y\\in\\mathcal{Y}$ be the characteristics of workers and firms respectively.\n",
    "\n",
    "* Workers and firms are in equal mass, which is normalized to one. The distribution of worker's types is $P$, and the distribution of the firm's types is $Q$, where $P$ and $Q$ are probability measures on $\\mathcal{X}$ and $\\mathcal{Y}$.\n",
    "\n",
    "It is assumed that if a worker $x$ matches with a firm $y$, the total output generated is $\\Phi_{xy}$. The questions are then:\n",
    "\n",
    "* **Optimality:** what is the optimal assignment in the sense that it maximizes the overal output generated?\n",
    "\n",
    "* **Equilibrium:** what are the equilibrium assignment and the equilibrium wages?\n",
    "\n",
    "* **Efficiency:** do these two notions coincide?\n",
    "\n",
    "The same tools have been used by Gary Becker to study the heterosexual marriage market, where $x$ is the man's characteristics, and $y$ is the woman's characteristics, and \"wages\" are replaced by \"transfers\"."
   ]
  },
  {
   "cell_type": "markdown",
   "metadata": {},
   "source": [
    "## Data\n",
    "\n",
    "In this block, we shall take a first look at marriage data (while a worker-firm example will be seen in next block). Dupuy and Galichon (JPE, 2014) study a marriage dataset where, in addition to usual socio-demographic variables (such as education and age), measures of personality traits are reported.\n",
    "\n",
    "* The literature on quantitative psychology argues that one can capture relatively well an individual's personality along five dimensions, the \"big 5\" - consciousness, extraversion, agreableness, emotional stability, autonomy - assessed though a standardized questionaire.\n",
    "\n",
    "* In addition to this, we observed a (self-assessed) measure of health, risk-aversion, education, height and body mass index = weight in kg/ (height in m)$^2$. In total, the available characteristics $x_{i}$ of man $i$ and $y_{j}$ of woman $j$ are both $10$-dimensional vectors.\n",
    "\n",
    "* It is assumed that the surplus of interaction is given by $\\Phi\\left(x_{i},y_{j}\\right)  =x_{i}^{\\intercal}Ay_{j}$, where $A$ is a *given* $10 \\times 10$ matrix. (later in this course, we'll see how to estimate $A$ based on matched marital data).\n",
    "\n",
    "Today, we solve a central planner's problem (a stylized version of the problem OKCupids would solve): given a population of men and a population of women, how do we mutually assign these in order to:\n",
    "\n",
    "1. maximize matching surplus \n",
    "\n",
    "2. attain a (hopefully) stable assignment."
   ]
  },
  {
   "cell_type": "code",
   "execution_count": 17,
   "metadata": {},
   "outputs": [],
   "source": [
    "using DataFrames\n",
    "using CSV\n",
    "\n",
    "thePath = joinpath(pwd(),\"..\",\"data_mec_optim\",\"marriage_personality-traits\")\n",
    "nbcar = 10 # number of characteristics\n",
    "\n",
    "data_X = CSV.read(joinpath(thePath,\"Xvals.csv\"))\n",
    "Xvals = convert(Matrix, data_X)\n",
    "\n",
    "data_Y = CSV.read(joinpath(thePath,\"Yvals.csv\"))\n",
    "Yvals = convert(Matrix, data_Y)\n",
    "\n",
    "data_aff = CSV.read(joinpath(thePath,\"affinitymatrix.csv\"));"
   ]
  },
  {
   "cell_type": "code",
   "execution_count": 4,
   "metadata": {},
   "outputs": [
    {
     "data": {
      "text/html": [
       "<table class=\"data-frame\"><thead><tr><th></th><th>educm</th><th>heightm</th><th>BMIm</th><th>healthm</th><th>consm</th><th>extram</th><th>agreem</th><th>emom</th><th>autom</th></tr><tr><th></th><th>Int64</th><th>Int64</th><th>Float64</th><th>Int64</th><th>Float64</th><th>Float64</th><th>Float64</th><th>Float64</th><th>Float64</th></tr></thead><tbody><p>6 rows × 10 columns (omitted printing of 1 columns)</p><tr><th>1</th><td>2</td><td>186</td><td>28.9051</td><td>3</td><td>-0.752877</td><td>-0.360787</td><td>-0.711276</td><td>-0.291031</td><td>0.840217</td></tr><tr><th>2</th><td>2</td><td>176</td><td>27.4406</td><td>3</td><td>0.345542</td><td>-0.805524</td><td>-0.251796</td><td>-0.305475</td><td>-0.064454</td></tr><tr><th>3</th><td>3</td><td>187</td><td>23.1634</td><td>3</td><td>-0.759678</td><td>0.898007</td><td>-0.029462</td><td>-0.672859</td><td>-0.961691</td></tr><tr><th>4</th><td>1</td><td>184</td><td>29.2415</td><td>2</td><td>-0.455688</td><td>-1.05337</td><td>-0.041612</td><td>0.436133</td><td>0.121873</td></tr><tr><th>5</th><td>1</td><td>174</td><td>23.7812</td><td>4</td><td>-1.44024</td><td>1.16373</td><td>0.29375</td><td>-0.538922</td><td>0.782285</td></tr><tr><th>6</th><td>1</td><td>186</td><td>21.9679</td><td>3</td><td>-1.0083</td><td>-0.484221</td><td>1.1553</td><td>0.267899</td><td>0.927354</td></tr></tbody></table>"
      ],
      "text/latex": [
       "\\begin{tabular}{r|cccccccccc}\n",
       "\t& educm & heightm & BMIm & healthm & consm & extram & agreem & emom & autom & \\\\\n",
       "\t\\hline\n",
       "\t& Int64 & Int64 & Float64 & Int64 & Float64 & Float64 & Float64 & Float64 & Float64 & \\\\\n",
       "\t\\hline\n",
       "\t1 & 2 & 186 & 28.9051 & 3 & -0.752877 & -0.360787 & -0.711276 & -0.291031 & 0.840217 & $\\dots$ \\\\\n",
       "\t2 & 2 & 176 & 27.4406 & 3 & 0.345542 & -0.805524 & -0.251796 & -0.305475 & -0.064454 & $\\dots$ \\\\\n",
       "\t3 & 3 & 187 & 23.1634 & 3 & -0.759678 & 0.898007 & -0.029462 & -0.672859 & -0.961691 & $\\dots$ \\\\\n",
       "\t4 & 1 & 184 & 29.2415 & 2 & -0.455688 & -1.05337 & -0.041612 & 0.436133 & 0.121873 & $\\dots$ \\\\\n",
       "\t5 & 1 & 174 & 23.7812 & 4 & -1.44024 & 1.16373 & 0.29375 & -0.538922 & 0.782285 & $\\dots$ \\\\\n",
       "\t6 & 1 & 186 & 21.9679 & 3 & -1.0083 & -0.484221 & 1.1553 & 0.267899 & 0.927354 & $\\dots$ \\\\\n",
       "\\end{tabular}\n"
      ],
      "text/plain": [
       "6×10 DataFrame. Omitted printing of 4 columns\n",
       "│ Row │ educm │ heightm │ BMIm    │ healthm │ consm     │ extram    │\n",
       "│     │ \u001b[90mInt64\u001b[39m │ \u001b[90mInt64\u001b[39m   │ \u001b[90mFloat64\u001b[39m │ \u001b[90mInt64\u001b[39m   │ \u001b[90mFloat64\u001b[39m   │ \u001b[90mFloat64\u001b[39m   │\n",
       "├─────┼───────┼─────────┼─────────┼─────────┼───────────┼───────────┤\n",
       "│ 1   │ 2     │ 186     │ 28.9051 │ 3       │ -0.752877 │ -0.360787 │\n",
       "│ 2   │ 2     │ 176     │ 27.4406 │ 3       │ 0.345542  │ -0.805524 │\n",
       "│ 3   │ 3     │ 187     │ 23.1634 │ 3       │ -0.759678 │ 0.898007  │\n",
       "│ 4   │ 1     │ 184     │ 29.2415 │ 2       │ -0.455688 │ -1.05337  │\n",
       "│ 5   │ 1     │ 174     │ 23.7812 │ 4       │ -1.44024  │ 1.16373   │\n",
       "│ 6   │ 1     │ 186     │ 21.9679 │ 3       │ -1.0083   │ -0.484221 │"
      ]
     },
     "execution_count": 4,
     "metadata": {},
     "output_type": "execute_result"
    }
   ],
   "source": [
    "first(data_X,6)"
   ]
  },
  {
   "cell_type": "code",
   "execution_count": 5,
   "metadata": {},
   "outputs": [
    {
     "data": {
      "text/html": [
       "<table class=\"data-frame\"><thead><tr><th></th><th>educv</th><th>heightv</th><th>BMIv</th><th>healthv</th><th>consv</th><th>extrav</th><th>agreev</th><th>emov</th><th>autov</th></tr><tr><th></th><th>Int64</th><th>Int64</th><th>Float64</th><th>Int64</th><th>Float64</th><th>Float64</th><th>Float64</th><th>Float64</th><th>Float64</th></tr></thead><tbody><p>6 rows × 10 columns (omitted printing of 1 columns)</p><tr><th>1</th><td>2</td><td>159</td><td>22.9421</td><td>4</td><td>-0.352262</td><td>0.065096</td><td>-0.713136</td><td>-0.529817</td><td>-0.06674</td></tr><tr><th>2</th><td>2</td><td>165</td><td>22.0386</td><td>3</td><td>-0.741707</td><td>-0.484221</td><td>0.219906</td><td>0.706937</td><td>0.685428</td></tr><tr><th>3</th><td>3</td><td>170</td><td>20.7612</td><td>3</td><td>0.327571</td><td>-0.180299</td><td>1.05207</td><td>0.999001</td><td>0.177472</td></tr><tr><th>4</th><td>2</td><td>160</td><td>22.6563</td><td>4</td><td>-0.18764</td><td>-1.29926</td><td>1.22307</td><td>0.154011</td><td>2.28434</td></tr><tr><th>5</th><td>2</td><td>165</td><td>22.7732</td><td>3</td><td>0.078951</td><td>0.613921</td><td>0.122749</td><td>0.073875</td><td>-0.253068</td></tr><tr><th>6</th><td>1</td><td>168</td><td>19.1327</td><td>3</td><td>-1.42907</td><td>0.472616</td><td>1.2408</td><td>0.695631</td><td>1.16325</td></tr></tbody></table>"
      ],
      "text/latex": [
       "\\begin{tabular}{r|cccccccccc}\n",
       "\t& educv & heightv & BMIv & healthv & consv & extrav & agreev & emov & autov & \\\\\n",
       "\t\\hline\n",
       "\t& Int64 & Int64 & Float64 & Int64 & Float64 & Float64 & Float64 & Float64 & Float64 & \\\\\n",
       "\t\\hline\n",
       "\t1 & 2 & 159 & 22.9421 & 4 & -0.352262 & 0.065096 & -0.713136 & -0.529817 & -0.06674 & $\\dots$ \\\\\n",
       "\t2 & 2 & 165 & 22.0386 & 3 & -0.741707 & -0.484221 & 0.219906 & 0.706937 & 0.685428 & $\\dots$ \\\\\n",
       "\t3 & 3 & 170 & 20.7612 & 3 & 0.327571 & -0.180299 & 1.05207 & 0.999001 & 0.177472 & $\\dots$ \\\\\n",
       "\t4 & 2 & 160 & 22.6563 & 4 & -0.18764 & -1.29926 & 1.22307 & 0.154011 & 2.28434 & $\\dots$ \\\\\n",
       "\t5 & 2 & 165 & 22.7732 & 3 & 0.078951 & 0.613921 & 0.122749 & 0.073875 & -0.253068 & $\\dots$ \\\\\n",
       "\t6 & 1 & 168 & 19.1327 & 3 & -1.42907 & 0.472616 & 1.2408 & 0.695631 & 1.16325 & $\\dots$ \\\\\n",
       "\\end{tabular}\n"
      ],
      "text/plain": [
       "6×10 DataFrame. Omitted printing of 4 columns\n",
       "│ Row │ educv │ heightv │ BMIv    │ healthv │ consv     │ extrav    │\n",
       "│     │ \u001b[90mInt64\u001b[39m │ \u001b[90mInt64\u001b[39m   │ \u001b[90mFloat64\u001b[39m │ \u001b[90mInt64\u001b[39m   │ \u001b[90mFloat64\u001b[39m   │ \u001b[90mFloat64\u001b[39m   │\n",
       "├─────┼───────┼─────────┼─────────┼─────────┼───────────┼───────────┤\n",
       "│ 1   │ 2     │ 159     │ 22.9421 │ 4       │ -0.352262 │ 0.065096  │\n",
       "│ 2   │ 2     │ 165     │ 22.0386 │ 3       │ -0.741707 │ -0.484221 │\n",
       "│ 3   │ 3     │ 170     │ 20.7612 │ 3       │ 0.327571  │ -0.180299 │\n",
       "│ 4   │ 2     │ 160     │ 22.6563 │ 4       │ -0.18764  │ -1.29926  │\n",
       "│ 5   │ 2     │ 165     │ 22.7732 │ 3       │ 0.078951  │ 0.613921  │\n",
       "│ 6   │ 1     │ 168     │ 19.1327 │ 3       │ -1.42907  │ 0.472616  │"
      ]
     },
     "execution_count": 5,
     "metadata": {},
     "output_type": "execute_result"
    }
   ],
   "source": [
    "first(data_Y,6)"
   ]
  },
  {
   "cell_type": "code",
   "execution_count": 7,
   "metadata": {},
   "outputs": [
    {
     "data": {
      "text/html": [
       "<table class=\"data-frame\"><thead><tr><th></th><th>Column1</th><th>educw</th><th>heightw</th><th>BMIw</th><th>healthw</th><th>consw</th><th>extraw</th><th>agreew</th><th>emow</th></tr><tr><th></th><th>String⍰</th><th>Float64⍰</th><th>Float64⍰</th><th>Float64⍰</th><th>Float64⍰</th><th>Float64⍰</th><th>Float64⍰</th><th>Float64⍰</th><th>Float64⍰</th></tr></thead><tbody><p>6 rows × 11 columns (omitted printing of 2 columns)</p><tr><th>1</th><td>educm</td><td>0.56</td><td>0.02</td><td>-0.08</td><td>0.02</td><td>-0.04</td><td>-0.01</td><td>-0.03</td><td>-0.04</td></tr><tr><th>2</th><td>heightm</td><td>0.01</td><td>0.18</td><td>0.04</td><td>-0.01</td><td>-0.04</td><td>0.05</td><td>0.02</td><td>0.02</td></tr><tr><th>3</th><td>BMIm</td><td>-0.05</td><td>0.05</td><td>0.21</td><td>0.01</td><td>0.06</td><td>0.0</td><td>-0.04</td><td>0.04</td></tr><tr><th>4</th><td>healthm</td><td>-0.07</td><td>0.0</td><td>-0.06</td><td>0.14</td><td>-0.04</td><td>0.05</td><td>-0.04</td><td>0.04</td></tr><tr><th>5</th><td>consm</td><td>-0.06</td><td>-0.03</td><td>0.07</td><td>0.0</td><td>0.14</td><td>0.07</td><td>0.04</td><td>0.06</td></tr><tr><th>6</th><td>extram</td><td>0.01</td><td>-0.02</td><td>0.05</td><td>0.02</td><td>-0.06</td><td>0.02</td><td>-0.02</td><td>-0.01</td></tr></tbody></table>"
      ],
      "text/latex": [
       "\\begin{tabular}{r|cccccccccc}\n",
       "\t& Column1 & educw & heightw & BMIw & healthw & consw & extraw & agreew & emow & \\\\\n",
       "\t\\hline\n",
       "\t& String⍰ & Float64⍰ & Float64⍰ & Float64⍰ & Float64⍰ & Float64⍰ & Float64⍰ & Float64⍰ & Float64⍰ & \\\\\n",
       "\t\\hline\n",
       "\t1 & educm & 0.56 & 0.02 & -0.08 & 0.02 & -0.04 & -0.01 & -0.03 & -0.04 & $\\dots$ \\\\\n",
       "\t2 & heightm & 0.01 & 0.18 & 0.04 & -0.01 & -0.04 & 0.05 & 0.02 & 0.02 & $\\dots$ \\\\\n",
       "\t3 & BMIm & -0.05 & 0.05 & 0.21 & 0.01 & 0.06 & 0.0 & -0.04 & 0.04 & $\\dots$ \\\\\n",
       "\t4 & healthm & -0.07 & 0.0 & -0.06 & 0.14 & -0.04 & 0.05 & -0.04 & 0.04 & $\\dots$ \\\\\n",
       "\t5 & consm & -0.06 & -0.03 & 0.07 & 0.0 & 0.14 & 0.07 & 0.04 & 0.06 & $\\dots$ \\\\\n",
       "\t6 & extram & 0.01 & -0.02 & 0.05 & 0.02 & -0.06 & 0.02 & -0.02 & -0.01 & $\\dots$ \\\\\n",
       "\\end{tabular}\n"
      ],
      "text/plain": [
       "6×11 DataFrame. Omitted printing of 5 columns\n",
       "│ Row │ Column1 │ educw    │ heightw  │ BMIw     │ healthw  │ consw    │\n",
       "│     │ \u001b[90mString⍰\u001b[39m │ \u001b[90mFloat64⍰\u001b[39m │ \u001b[90mFloat64⍰\u001b[39m │ \u001b[90mFloat64⍰\u001b[39m │ \u001b[90mFloat64⍰\u001b[39m │ \u001b[90mFloat64⍰\u001b[39m │\n",
       "├─────┼─────────┼──────────┼──────────┼──────────┼──────────┼──────────┤\n",
       "│ 1   │ educm   │ 0.56     │ 0.02     │ -0.08    │ 0.02     │ -0.04    │\n",
       "│ 2   │ heightm │ 0.01     │ 0.18     │ 0.04     │ -0.01    │ -0.04    │\n",
       "│ 3   │ BMIm    │ -0.05    │ 0.05     │ 0.21     │ 0.01     │ 0.06     │\n",
       "│ 4   │ healthm │ -0.07    │ 0.0      │ -0.06    │ 0.14     │ -0.04    │\n",
       "│ 5   │ consm   │ -0.06    │ -0.03    │ 0.07     │ 0.0      │ 0.14     │\n",
       "│ 6   │ extram  │ 0.01     │ -0.02    │ 0.05     │ 0.02     │ -0.06    │"
      ]
     },
     "execution_count": 7,
     "metadata": {},
     "output_type": "execute_result"
    }
   ],
   "source": [
    "first(data_aff,6)"
   ]
  },
  {
   "cell_type": "markdown",
   "metadata": {},
   "source": [
    "## The Discrete Monge-Kantorovich Theorem\n",
    "\n",
    "### Discrete case\n",
    "Assume that the type spaces $\\mathcal{X}$ and $\\mathcal{Y}$ are finite, so $\\mathcal{X=}\\left\\{  1,...,N\\right\\}  $, and $\\mathcal{Y}=\\left\\{1,...,M\\right\\}$.\n",
    "\n",
    "The total mass of workers and jobs is normalized to one. The mass of workers of type $x$ is $p_{x}$; the mass of jobs of type $y$ is $q_{y}$, with $\\sum_{x}p_{x}=\\sum_{y}q_{y}=1$.\n",
    "\n",
    "Let $\\pi_{xy}$ be the mass of workers of type $x$ assigned to jobs of type $y$. Every worker is busy and every job is filled, thus\n",
    "\n",
    "<a name=\"dicsr-constraints\"></a>\n",
    "\\begin{align*}\n",
    "\\sum_{y\\in\\mathcal{Y}}\\pi_{xy}=p_{x}\\text{ and }\\sum_{x\\in\\mathcal{X}}\\pi\n",
    "_{xy}=q_{y}. \n",
    "\\end{align*}\n",
    "\n",
    "(Note that this formulation allows for mixing, i.e. it allows for $\\pi_{xy}>0$ and $\\pi_{xy^{\\prime}}>0$ to hold simultaneously with $y\\neq y^{\\prime}$.) The set of $\\pi\\geq0$ satisfying [the discrete contraints](#dicsr-constraints) is denoted by\n",
    "\n",
    "\\begin{align*}\n",
    "\\pi\\in\\mathcal{M}\\left(p,q\\right).\n",
    "\\end{align*}\n",
    "\n",
    "Assume the economic output created when assigning worker $x$ to job $y$ is $\\Phi_{xy}$. Hence, under assignment $\\pi$, the total output is $\\sum _{xy}\\pi_{xy}\\Phi_{xy}$.\n",
    "\n",
    "Thus, the optimal assignment is\n",
    "\n",
    "<a name=\"OAP\"></a>\n",
    "\\begin{align*}\n",
    "\\max_{\\pi\\geq0}  &  \\sum_{xy}\\pi_{xy}\\Phi_{xy} \\\\\n",
    "s.t.~  &  \\sum_{y\\in\\mathcal{Y}}\\pi_{xy}=p_{x} \\left[u_{x}\\right] \\\\\n",
    "&  \\sum_{x\\in\\mathcal{X}}\\pi_{xy}=q_{y}~\\left[v_{y}\\right]\n",
    "\\end{align*}\n",
    "\n",
    "and it is now a finite-dimensional linear programming problem.\n",
    "\n",
    "Note that it is nothing else than the Monge-Kantorovich problem when $P$ and $Q$ are discrete probability measures on $\\mathcal{X=}\\left\\{1,...,N\\right\\}  $, and $\\mathcal{Y}=\\left\\{  1,...,M\\right\\}$."
   ]
  },
  {
   "cell_type": "markdown",
   "metadata": {},
   "source": [
    "---\n",
    "**Theorem**\n",
    "1. The value of the [primal problem](#OAP) *coincides with the value of the dual problem*\n",
    "\n",
    "    <a name=\"dual-discr\"></a>\n",
    "    \\begin{align*}\n",
    "    \\min_{u,v}  &  \\sum_{x\\in\\mathcal{X}}p_{x}u_{x}+\\sum_{y\\in\\mathcal{Y}}\n",
    "    q_{y}v_{y}\\\\\n",
    "    s.t.  &  u_{x}+v_{y}\\geq\\Phi_{xy}~\\left[\\pi_{xy}\\geq0\\right]\n",
    "    \\end{align*}\n",
    "\n",
    "2. Both the primal and the dual problems have optimal solutions. If $\\pi$ *is a solution to the primal problem* and $\\left(u,v\\right)$ is *a solution to the dual problem, then by complementary slackness*,\n",
    "\n",
    "    <a name=\"complSlack\"> </a>\n",
    "    \\begin{align*}\n",
    "    \\pi_{xy}>0\\text{ implies }u_{x}+v_{y}=\\Phi_{xy}.\n",
    "    \\end{align*}\n",
    "\n",
    "---\n",
    "\n",
    "---\n",
    "**Proof**\n",
    "The proof follows from the min-cost flow duality result, but let us rewrite it anyway. \n",
    "\n",
    "1. The value of the [primal problem](#OAP) can be written as $\\max_{\\pi\\geq0}\\min_{u,v}S\\left(  \\pi,u,v\\right)$, where\n",
    "\n",
    "    \\begin{align*}\n",
    "    S\\left(  \\pi,u,v\\right)  :=\\sum_{xy}\\pi_{xy}\\Phi_{xy}+\\sum_{x\\in\\mathcal{X}}u_{x}(p_{x}-\\sum_{y\\in\\mathcal{Y}}\\pi_{xy})+\\sum_{y\\in\\mathcal{Y}}v_{y}(q_{y}-\\sum_{x\\in\\mathcal{X}}\\pi_{xy})\n",
    "    \\end{align*}\n",
    "\n",
    "    but by the minmax theorem, this value is equal to $\\min_{u,v}\\max_{\\pi\\geq 0}S\\left(  \\pi,u,v\\right)$, which is the value of the [dual problem](#ual-discr}).\n",
    "\n",
    "2. Follows by noting that, for a primal solution $\\pi$ and a dual solution $\\left(  u,v\\right)  $, then $S\\left( \\pi,u,v\\right)  =\\sum_{xy}\\pi_{xy} \\Phi_{xy}$. $\\blacksquare$\n",
    "\n",
    "---\n",
    "\n",
    "Note that this result is the min-cost flow duality theorem in the bipartite case, as seen in lecture $2$, after setting transportation cost through $xy\\in\\mathcal{X}\\times\\mathcal{Y}$ to $c_{xy}=-\\Phi_{xy}$, and $n_{t}=-p_{t}1\\left\\{  t\\in\\mathcal{X}\\right\\}  +q_{t}\\mathbf{1}\\left\\{  t\\in\\mathcal{Y}\\right\\}$. We see various new interpretations of the result."
   ]
  },
  {
   "cell_type": "markdown",
   "metadata": {},
   "source": [
    "The following statements are equivalent:\n",
    "\n",
    "* $\\pi$ is an optimal solution to the primal problem, and $\\left(\n",
    "u,v\\right)  $ is an optimal solution to the dual problem, and\n",
    "\n",
    "* (i) $\\pi\\in M\\left(  p,q\\right)  $\n",
    "\n",
    "* (ii) $u_{x}+v_{y}\\geq\\Phi_{xy}$\n",
    "\n",
    "* (iii) $\\pi_{xy}>0$ implies $u_{x}+v_{y}\\leq\\Phi_{xy}$.\n",
    "\n",
    "We saw the direct implication. But the converse is easy: take $\\pi$ and $\\left(  u,v\\right)  $ satisfying (i)--(iii), Then one has\n",
    "\n",
    "\\begin{align*}\n",
    "dual\\leq\\sum_{x}p_{x}u_{x}+\\sum_{y}q_{y}v_{y}=\\sum_{xy}\\pi_{xy}\\left(\n",
    "u_{x}+v_{y}\\right)  \\leq\\sum_{xy}\\pi_{xy}\\Phi_{xy}\\leq primal\n",
    "\\end{align*}\n",
    "\n",
    "but by the MK duality theorem, both ends coincide. Thus $\\pi$ is optimal for the primal and $\\left(  u,v\\right)  $ for the dual."
   ]
  },
  {
   "cell_type": "markdown",
   "metadata": {},
   "source": [
    "### Unassigned Agents\n",
    "\n",
    "A important variant of the problem exists with $\\sum_{x\\in\\mathcal{X}}p_{x}\\neq\\sum_{y\\in\\mathcal{Y}}q_{y}$ and the primal constraints become inequality constraints. The duality then becomes\n",
    "\n",
    "\\begin{align*}\n",
    "\\begin{array}\n",
    "[c]{rrr}\n",
    "\\max_{\\pi\\geq0}\\sum\\pi_{xy}\\Phi_{xy} & = & \\min_{u,v}\\sum_{x\\in\\mathcal{X}\n",
    "}p_{x}u_{x}+\\sum_{y\\in\\mathcal{Y}}q_{y}v_{y}\\\\\n",
    "s.t.~\\sum_{y\\in\\mathcal{Y}}\\pi_{xy}\\leq p_{x} &  & u\\geq0,~v\\geq0 \\\\\n",
    "\\sum_{x\\in\\mathcal{X}}\\pi_{xy}\\leq q_{y} &  & u_{x}+v_{y}\\geq\\Phi_{xy}\n",
    "\\end{array}\n",
    "\\end{align*}"
   ]
  },
  {
   "cell_type": "markdown",
   "metadata": {},
   "source": [
    "### Pairwise stability\n",
    "\n",
    "In a marriage context, an important concept is stability:\n",
    "\n",
    "An outcome is a vector $\\left(  \\pi,u,v\\right)  $, where $u_{x}$ and $v_{y}$ are $x$'s and $y$'s payoffs, and $\\pi$ is a matching that is\n",
    "\n",
    "<a name=\"primFeas\"></a>\n",
    "\\begin{align*}\n",
    "\\pi\\in\\mathcal{M}\\left(  p,q\\right).\n",
    "\\end{align*}\n",
    "\n",
    "A pair $xy$ is blocking if $x$ and $y$ can find a way of sharing their joint surplus $\\Phi_{xy}$ in such a way that $x$ gets more than $u_{x}$ and $y$ gets more than $v_{y}$. Hence there is no blocking pair if and only if for every $x$ and $y$, one has\n",
    "\n",
    "<a name=\"noBlocking\"></a>\n",
    "\\begin{align*}\n",
    "u_{x}+v_{y}\\geq\\Phi_{xy}.\n",
    "\\end{align*}\n",
    "\n",
    "If $x$ and $y$ are actually matched, their utilities $u_{x}$ and $v_{y}$ need to be feasible, i.e. the above inequality should be saturated. Hence\n",
    "\n",
    "<a name=\"cplSlck\"></a>\n",
    "\\begin{align*}\n",
    "\\pi_{xy}>0\\text{ implies }u_{x}+v_{y}=\\Phi_{xy}.\n",
    "\\end{align*}\n",
    "\n",
    "---\n",
    "**Definition:**\n",
    "\n",
    "A matching that satisfies [primal feasbilitity](#primFeas), [no blocking](#noBlocking), and [complementary slackness](#cplSlck) is called a stable matching.\n",
    "\n",
    "As it turns out, these conditions are precisely the conditions that express complementarity slackness in the Monge-Kantorovich problem. Therefore, outcome$\\left(  \\pi,u,v\\right)  $ is stable if and only if $\\pi$ is a solution to the primal problem, and $\\left(  u,v\\right)  $ is a solution to the dual problem.\n",
    "\n",
    "---\n"
   ]
  },
  {
   "cell_type": "markdown",
   "metadata": {},
   "source": [
    "Back to the workers / firms interpretation and assume for now that workers are indifferent between any two firms that offer the same salary. We argue that $u\\left(  x\\right)  $ can be interpreted as the equilibrium wage of worker $x$, while $v\\left(  y\\right)  $ can be interpreted as the equilibrium profit of firm $y$. Indeed:\n",
    "\n",
    "---\n",
    "**Proposition**\n",
    "If $\\left(u,v\\right)$ is a solution to the dual of the Kantorovich problem, then\n",
    "\n",
    "\\begin{align*}\n",
    "u_{x}  &  =\\sup_{y\\in\\mathcal{Y}}\\left(  \\Phi_{xy}-v_{y}\\right)\n",
    "\\label{conjug1}\\\\\n",
    "v_{y}  &  =\\sup_{x\\in\\mathcal{X}}\\left(  \\Phi_{xy}-u_{x}\\right)  .\n",
    "\\label{conjug2}\n",
    "\\end{align*}\n",
    "\n",
    "---\n",
    "\n",
    "Therefore, $u_{x}$ can be interpreted as equilibrium wage of worker $x$, and $v_{y}$ as equilibrium profit of firm $y$. In this interpretation, all workers get the same wage at equilibrium.\n",
    "\n",
    "Assume now that if a worker of type $x$ works for a firm of type $y$ for wage $w_{xy}$, then gets $\\alpha_{xy}+w_{xy}$, where $\\alpha_{xy}$ is the nonmonetary payoff associated with working with a firm of type $y$. The firm's profit is $\\gamma_{xy}-w_{xy}$, where $\\gamma_{xy}$ is the economic output.\n",
    "\n",
    "If an employee of type $x$ matches with a firm of type $y$, they generate joint surplus $\\Phi_{xy}$, given by%\n",
    "\n",
    "\\begin{align*}\n",
    "\\Phi_{xy}=\\underset{\\text{employee's payoff}}{\\underbrace{\\alpha_{xy}+w_{xy}}}+\\underset{\\text{firm's payoff}}{\\underbrace{\\gamma_{xy}-w_{xy}}}=\\alpha_{xy}+\\gamma_{xy}\n",
    "\\end{align*}\n",
    "\n",
    "which is independent from $w$.\n",
    "\n",
    "Workers choose firms which maximize their utility, i.e. solve \n",
    "\n",
    "<a name=\"equivWalrasStable1\"></a>\n",
    "\\begin{align*}\n",
    "u_{x}=\\max_{y}\\left\\{  \\alpha_{xy}+w_{xy}\\right\\}\n",
    "\\end{align*}\n",
    "\n",
    "and $u_{x}=\\alpha_{xy}+w_{xy}$ if $x$ and $y$ are matched. Similarly, the indirect payoff vector of firms is\n",
    "\n",
    "<a name=\"equivWalrasStable2\"></a>\n",
    "\\begin{align*}\n",
    "v_{y}=\\max_{x}\\left\\{  \\gamma_{xy}-w_{xy}\\right\\}\n",
    "\\end{align*}\n",
    "\n",
    "and, again, $v_{y}=\\gamma_{xy}-w_{xy}$ if $x$ and $y$ are matched.\n",
    "\n",
    "As a result,\n",
    "\n",
    "\\begin{align*}\n",
    "u_{x}+v_{y}\\geq\\alpha_{xy}+\\gamma_{xy}=\\Phi_{xy}\n",
    "\\end{align*}\n",
    "\n",
    "and equality holds if $x$ and $y$ are matched. Thus, if $w_{xy}$ is an equilibrium wage, then the triple $\\left(  \\pi,u,v\\right)$ where $\\pi$ is the corresponding matching, and $u_{x}$ and $v_{y}$ are defined by [this](#equivWalrasStable1) and [this](#equivWalrasStable2) defines a stable outcome.\n",
    "\n",
    "Conversely, let $\\left(\\pi,u,v\\right)$ be a stable outcome. Then let $\\bar{w}_{xx}$ and \\b{w}$_{xy}$ be defined by\n",
    "\n",
    "\\begin{align*}\n",
    "\\bar{w}_{xy}=u_{x}-\\alpha_{xy}\\text{ and \\b{w}}_{xy}=\\gamma_{xy}-v_{y}.\n",
    "\\end{align*}\n",
    "\n",
    "One has $\\bar{w}_{xy}\\geq$\\b{w}$_{xy}$. Any $w_{xy}$ such that $\\bar{w}_{xy}\\geq w_{xy}\\geq$\\b{w}$_{xy}$ is an equilibrium wage. Indeed, $\\pi_{xy}>0$ implies $\\bar{w}_{xy}=$\\b{w}$_{xy}$, thus [this](#equivWalrasStable1) and [this](#equivWalrasStable2) hold. Given $u$ and $v$, $w_{xy}$ is uniquely defined on the equilibrium path (ie. when $x$ and $y$ are such that $\\pi_{xy}>0$), but there are multiple choices of $w$ outside the equilibrium path.\n",
    "\n",
    "Note that all workers of the same type get the same indirect utility, but not necessarly the same wage."
   ]
  },
  {
   "cell_type": "markdown",
   "metadata": {},
   "source": [
    "## Application"
   ]
  },
  {
   "cell_type": "markdown",
   "metadata": {},
   "source": [
    "We postulate that the form of the surplus function is\n",
    "\\begin{align*}\n",
    "\\Phi_{ij}=x_{i}^{\\intercal} Ay_{j}\n",
    "\\end{align*}\n",
    "where $x_{i}$ and $y_{j}$ are the 10-dimensional characteristics of man $i$ and woman $j$, and the form of $A$, a 10x10 matrix, is given (it is stored in the file `affinitymatrix.csv`). Again, we'll see later how to solve the econometrics problem of estimating $A$."
   ]
  },
  {
   "cell_type": "code",
   "execution_count": 11,
   "metadata": {},
   "outputs": [
    {
     "data": {
      "text/plain": [
       "1158×10 Array{Float64,2}:\n",
       " 2.0  159.0  22.9421  4.0  -0.352262  …  -0.529817  -0.06674    0.271632\n",
       " 2.0  165.0  22.0386  3.0  -0.741707      0.706937   0.685428   0.353834\n",
       " 3.0  170.0  20.7612  3.0   0.327571      0.999001   0.177472  -0.201117\n",
       " 2.0  160.0  22.6563  4.0  -0.18764       0.154011   2.28434   -0.17207 \n",
       " 2.0  165.0  22.7732  3.0   0.078951      0.073875  -0.253068   0.042352\n",
       " 1.0  168.0  19.1327  3.0  -1.42907   …   0.695631   1.16325   -1.4455  \n",
       " 2.0  168.0  22.6757  3.0  -1.13334       0.540649   0.215037  -0.150937\n",
       " 3.0  168.0  25.1559  3.0   0.574734     -1.50145   -1.79866    0.314098\n",
       " 2.0  155.0  28.7201  3.0  -0.351534     -0.447957  -0.259094   0.11941 \n",
       " 1.0  163.0  23.3355  3.0   1.14969       0.309684  -0.441682   0.450397\n",
       " 2.0  158.0  19.2277  3.0  -1.05298   …  -0.704298   0.010677   0.586705\n",
       " 2.0  162.0  23.6244  3.0   0.101292     -0.033771   0.43145   -0.719865\n",
       " 2.0  176.0  24.2123  3.0  -0.332835     -0.193475   0.524614   0.286146\n",
       " ⋮                                    ⋱                                 \n",
       " 3.0  176.0  27.4406  3.0   1.16911      -0.176964   0.375852   0.110946\n",
       " 2.0  174.0  23.7812  3.0  -0.24738      -1.22501   -0.330485   0.337213\n",
       " 2.0  170.0  32.872   3.0   0.61359      -1.11314   -1.23511    0.441679\n",
       " 2.0  163.0  24.4646  2.0   0.387311     -1.36375   -0.398136   0.312814\n",
       " 2.0  165.0  20.5693  3.0   0.329028  …   0.085937   1.78843    0.135707\n",
       " 2.0  168.0  20.5499  3.0   0.326114     -1.00309    0.487048   0.119928\n",
       " 2.0  169.0  33.2621  4.0   0.346999     -0.294703  -1.24716    0.18425 \n",
       " 2.0  172.0  26.0276  4.0  -0.496        -0.472653   1.16928    0.106012\n",
       " 2.0  174.0  26.4236  3.0   0.36934       0.060912  -0.615956   0.34173 \n",
       " 2.0  162.0  22.1003  2.0  -0.207068  …  -0.202223  -0.441682   0.210679\n",
       " 2.0  168.0  29.0533  3.0   1.16911      -0.31968    0.859703   0.173864\n",
       " 2.0  176.0  29.0548  3.0   0.327571     -0.601944  -0.441682   0.543693"
      ]
     },
     "execution_count": 11,
     "metadata": {},
     "output_type": "execute_result"
    }
   ],
   "source": [
    "Yvals"
   ]
  },
  {
   "cell_type": "code",
   "execution_count": 22,
   "metadata": {},
   "outputs": [
    {
     "data": {
      "text/plain": [
       "1158×1158 Array{Union{Missing, Float64},2}:\n",
       " 1.49587  1.50051  1.49222  1.49925  …  1.50105  1.49989  1.50122  1.50351\n",
       " 1.49228  1.49697  1.48878  1.49577     1.49754  1.49638  1.49782  1.49996\n",
       " 1.48227  1.48758  1.48036  1.48612     1.48683  1.48672  1.48591  1.48847\n",
       " 1.49662  1.50117  1.49273  1.50011     1.50208  1.50068  1.50276  1.50472\n",
       " 1.49258  1.49755  1.48965  1.49612     1.49751  1.49669  1.49693  1.49949\n",
       " 1.48471  1.4901   1.48279  1.48852  …  1.48947  1.48923  1.48835  1.491  \n",
       " 1.48731  1.49236  1.48465  1.49101     1.49226  1.49163  1.49189  1.49425\n",
       " 1.48152  1.48655  1.47903  1.4852      1.48631  1.48587  1.48587  1.48826\n",
       " 1.48471  1.48981  1.48218  1.48845     1.48939  1.48894  1.4887   1.49124\n",
       " 1.47554  1.48078  1.47349  1.47936     1.48013  1.47993  1.4791   1.48176\n",
       " 1.47992  1.48534  1.47807  1.4838   …  1.48463  1.48447  1.48349  1.48614\n",
       " 1.49629  1.5007   1.49219  1.49971     1.50167  1.50018  1.50248  1.50442\n",
       " 1.47488  1.48051  1.47372  1.47878     1.47918  1.47955  1.47745  1.48036\n",
       " ⋮                                   ⋱           ⋮                        \n",
       " 1.48469  1.48981  1.48237  1.48839     1.48942  1.48907  1.4888   1.49127\n",
       " 1.49709  1.5017   1.49339  1.50051     1.50236  1.50112  1.50274  1.50488\n",
       " 1.5018   1.50619  1.4976   1.5051      1.50726  1.50567  1.50805  1.51003\n",
       " 1.47223  1.47769  1.47074  1.47626     1.47674  1.47683  1.47562  1.47816\n",
       " 1.47697  1.48252  1.47565  1.48098  …  1.48143  1.48164  1.4802   1.48279\n",
       " 1.48728  1.49234  1.48465  1.49096     1.49217  1.49154  1.49163  1.49408\n",
       " 1.47792  1.48334  1.47624  1.48171     1.48253  1.48251  1.48124  1.48399\n",
       " 1.48118  1.48621  1.47859  1.48493     1.48596  1.48548  1.48551  1.48792\n",
       " 1.47589  1.48126  1.47419  1.47981     1.48047  1.48047  1.47948  1.48202\n",
       " 1.48456  1.48987  1.48249  1.48834  …  1.48949  1.48911  1.48868  1.49117\n",
       " 1.4903   1.4949   1.48672  1.49385     1.49536  1.49429  1.49571  1.49783\n",
       " 1.4946   1.4991   1.49066  1.49812     1.49981  1.49845  1.50043  1.50242"
      ]
     },
     "execution_count": 22,
     "metadata": {},
     "output_type": "execute_result"
    }
   ],
   "source": [
    "using Statistics\n",
    "A = convert(Matrix,data_aff[1:nbcar,2:nbcar+1])\n",
    "Yvals_std = (Yvals .- mean(Yvals,dims = 2)) ./ std(Yvals,dims = 2)\n",
    "Xvals_std = (Xvals .- mean(Xvals,dims = 2)) ./ std(Xvals,dims = 2)\n",
    "Φ = Xvals_std * A * Yvals_std'\n",
    "\n",
    "# sdX = apply(Xvals, 2, sd)\n",
    "# sdY = apply(Yvals, 2, sd)\n",
    "# mX = apply(Xvals, 2, mean)\n",
    "# mY = apply(Yvals, 2, mean)\n",
    "# Xvals = t((t(Xvals) - mX)/sdX)\n",
    "# Yvals = t((t(Yvals) - mY)/sdY)\n",
    "# nobs = dim(Xvals)[1]\n",
    "\n",
    "# Phi = Xvals %*% A %*% t(Yvals)"
   ]
  },
  {
   "cell_type": "markdown",
   "metadata": {},
   "source": [
    "This problem of computation of the Optimal Assignment Problem, more specifically of $\\left(\\pi,u,v\\right)$, is arguably the most studied problem in Computer Science, and dozens, if not hundreds of algorithms exist, whose running time is polynomial in $\\max\\left(n,m\\right)$, typically a power less than three of the latter.\n",
    "\n",
    "Famous algorithms include: the Hungarian algorithm (Kuhn-Munkres); Bertsekas' auction algorithm; Goldberg and Kennedy's pseudoflow algorithm. For more on these, see the book by Burkard, Dell'Amico, and Martello, and a\n",
    "introductory presentation in http://www.assignmentproblems.com/doc/LSAPIntroduction.pdf.\n",
    "\n",
    "Here, we will show how to solve the problem with the help of a Linear Programming solver used as a black box; our challenge here will be to carefully set up the constraint matrix as a sparse matrix in order to let a large scale Linear Programming solvers such as Gurobi recognize and exploit the sparsity of the problem.\n",
    "\n",
    "Let $\\Pi$ and $\\Phi$ be the matrices with typical elements $\\left(\\pi_{xy}\\right)  $ and $\\left(  \\Phi_{xy}\\right)  $. We let $p$, $q$, $u$,$v$, and $1$ the column vectors with entries $\\left(  p_{x}\\right)$, $\\left(  q_{y}\\right)  $, $\\left(  u_{x}\\right)  $, $\\left(  v_{y}\\right)$, and $1$, respectively. The optimal assignment problem\n",
    "\n",
    "\\begin{align*}\n",
    "\\max_{\\pi\\geq0}  &  \\sum_{xy}\\pi_{xy}\\Phi_{xy} \\\\\n",
    "s.t.~  &  \\sum_{y\\in\\mathcal{Y}}\\pi_{xy}=p_{x}~\\left[  u_{x}\\right]\\\\\n",
    "&  \\sum_{x\\in\\mathcal{X}}\\pi_{xy}=q_{y}~\\left[  v_{y}\\right] \n",
    "\\end{align*}\n",
    "\n",
    "Can be rewritten writes using matrix algebra as\n",
    "\n",
    "\\begin{align*}\n",
    "&  \\max_{\\Pi\\geq0}Tr\\left(  \\Pi^{\\prime}\\Phi\\right) \\\\\n",
    "&  \\Pi1_{M}=p\\\\\n",
    "&  1_{N}^{\\prime}\\Pi=q^{\\prime}.\n",
    "\\end{align*}\n",
    "\n",
    "We need to convert matrices into vectors; this can be done for instance by stacking the columns of $\\Pi$ into a single column vector. This operation is called *vectorization*, which we will denote\n",
    "\n",
    "\\begin{align*}\n",
    "vec\\left(  A\\right)  ,\n",
    "\\end{align*}\n",
    "\n",
    "which reshapes a $N\\times M$ matrix into a $nm\\times1$ vector. In `R`, this is\n",
    "implemented by `c(A)`; in Matlab, by `A(:)`.\n",
    "\n",
    "The objective function rewrites as\n",
    "\n",
    "\\begin{align*}\n",
    "vec\\left(  \\Phi\\right)^{\\prime}vec\\left(  \\Pi\\right)  .\n",
    "\\end{align*}"
   ]
  },
  {
   "cell_type": "code",
   "execution_count": 30,
   "metadata": {},
   "outputs": [
    {
     "name": "stdout",
     "output_type": "stream",
     "text": [
      "Academic license - for non-commercial use only\n",
      "Academic license - for non-commercial use only\n",
      "Optimize a model with 2316 rows, 1340964 columns and 2681928 nonzeros\n",
      "Coefficient statistics:\n",
      "  Matrix range     [1e+00, 1e+00]\n",
      "  Objective range  [1e+00, 2e+00]\n",
      "  Bounds range     [1e+00, 1e+00]\n",
      "  RHS range        [9e-04, 9e-04]\n",
      "\n",
      "Concurrent LP optimizer: dual simplex and barrier\n",
      "Showing barrier log only...\n",
      "\n",
      "Presolve time: 2.66s\n",
      "Presolved: 2316 rows, 1340964 columns, 2681928 nonzeros\n",
      "\n",
      "Ordering time: 0.02s\n",
      "\n",
      "Barrier statistics:\n",
      " AA' NZ     : 1.341e+06\n",
      " Factor NZ  : 2.683e+06 (roughly 600 MBytes of memory)\n",
      " Factor Ops : 4.144e+09 (less than 1 second per iteration)\n",
      " Threads    : 3\n",
      "\n",
      "                  Objective                Residual\n",
      "Iter       Primal          Dual         Primal    Dual     Compl     Time\n",
      "   0   1.99498406e+05  1.48771270e+00  1.16e+02 1.40e-02  5.51e-03     4s\n",
      "   1   1.98418231e+02  1.59791924e+00  1.14e-01 4.44e-16  5.48e-06     4s\n",
      "   2   1.48773963e+00  1.59627320e+00  1.20e-15 4.44e-16  4.05e-08     4s\n",
      "   3   1.48776211e+00  1.49172557e+00  7.26e-18 4.44e-16  1.48e-09     5s\n",
      "   4   1.48802105e+00  1.48933458e+00  2.63e-17 4.44e-16  4.90e-10     5s\n",
      "   5   1.48822630e+00  1.48894160e+00  9.81e-17 4.44e-16  2.67e-10     6s\n",
      "   6   1.48837839e+00  1.48872568e+00  7.95e-17 4.44e-16  1.29e-10     6s\n",
      "   7   1.48846194e+00  1.48865056e+00  4.28e-17 4.44e-16  7.03e-11     7s\n",
      "   8   1.48851729e+00  1.48861688e+00  2.04e-15 4.44e-16  3.71e-11     7s\n",
      "   9   1.48855212e+00  1.48860242e+00  1.21e-16 4.44e-16  1.88e-11     7s\n",
      "  10   1.48857670e+00  1.48859643e+00  2.44e-16 4.44e-16  7.36e-12     8s\n",
      "  11   1.48858672e+00  1.48859128e+00  2.24e-16 4.44e-16  1.70e-12     8s\n",
      "  12   1.48858920e+00  1.48859022e+00  2.41e-16 4.44e-16  3.80e-13     9s\n",
      "  13   1.48858957e+00  1.48858997e+00  4.76e-16 4.44e-16  1.51e-13     9s\n",
      "  14   1.48858972e+00  1.48858985e+00  9.80e-15 4.44e-16  4.63e-14     9s\n",
      "  15   1.48858979e+00  1.48858981e+00  3.25e-14 4.44e-16  7.34e-15    10s\n",
      "\n",
      "Barrier solved model in 15 iterations and 9.95 seconds\n",
      "Optimal objective 1.48858979e+00\n",
      "\n",
      "Crossover log...\n",
      "\n",
      "     375 DPushes remaining with DInf 3.8359114e-03                10s\n",
      "       0 DPushes remaining with DInf 4.1568992e-01                10s\n",
      "\n",
      "     401 PPushes remaining with PInf 5.1572056e-05                10s\n",
      "       0 PPushes remaining with PInf 0.0000000e+00                10s\n",
      "\n",
      "  Push phase complete: Pinf 0.0000000e+00, Dinf 3.4585921e-03     10s\n",
      "\n",
      "Iteration    Objective       Primal Inf.    Dual Inf.      Time\n",
      "     778    1.4885897e+00   0.000000e+00   3.458592e-03     10s\n",
      "  167553    1.4885898e+00   0.000000e+00   0.000000e+00     16s\n",
      "  167553    1.4885898e+00   0.000000e+00   0.000000e+00     17s\n",
      "\n",
      "Solved with barrier\n",
      "Solved in 167553 iterations and 16.73 seconds\n",
      "Optimal objective  1.488589795e+00\n",
      "termination_status(mo) = OPTIMAL::TerminationStatusCode = 1\n",
      "objective_value(mo) = 1.488589794753066\n"
     ]
    },
    {
     "name": "stdout",
     "output_type": "stream",
     "text": [
      "findall(value.(π) .!= 0) = CartesianIndex{2}[CartesianIndex(313, 1), CartesianIndex(586, 2), CartesianIndex(1123, 3), CartesianIndex(318, 4), CartesianIndex(266, 5), CartesianIndex(593, 6), CartesianIndex(133, 7), CartesianIndex(109, 8), CartesianIndex(12, 9), CartesianIndex(642, 10), CartesianIndex(130, 11), CartesianIndex(400, 12), CartesianIndex(99, 13), CartesianIndex(403, 14), CartesianIndex(623, 15), CartesianIndex(1024, 16), CartesianIndex(9, 17), CartesianIndex(569, 18), CartesianIndex(334, 19), CartesianIndex(294, 20), CartesianIndex(507, 21), CartesianIndex(281, 22), CartesianIndex(869, 23), CartesianIndex(774, 24), CartesianIndex(332, 25), CartesianIndex(392, 26), CartesianIndex(664, 27), CartesianIndex(171, 28), CartesianIndex(176, 29), CartesianIndex(679, 30), CartesianIndex(529, 31), CartesianIndex(131, 32), CartesianIndex(582, 33), CartesianIndex(238, 34), CartesianIndex(615, 35), CartesianIndex(312, 36), CartesianIndex(1071, 37), CartesianIndex(897, 38), CartesianIndex(1015, 39), CartesianIndex(723, 40), CartesianIndex(446, 41), CartesianIndex(927, 42), CartesianIndex(925, 43), CartesianIndex(513, 44), CartesianIndex(681, 45), CartesianIndex(34, 46), CartesianIndex(536, 47), CartesianIndex(870, 48), CartesianIndex(471, 49), CartesianIndex(38, 50), CartesianIndex(444, 51), CartesianIndex(763, 52), CartesianIndex(263, 53), CartesianIndex(309, 54), CartesianIndex(165, 55), CartesianIndex(886, 56), CartesianIndex(1004, 57), CartesianIndex(197, 58), CartesianIndex(419, 59), CartesianIndex(349, 60), CartesianIndex(789, 61), CartesianIndex(355, 62), CartesianIndex(655, 63), CartesianIndex(749, 64), CartesianIndex(537, 65), CartesianIndex(733, 66), CartesianIndex(95, 67), CartesianIndex(243, 68), CartesianIndex(409, 69), CartesianIndex(812, 70), CartesianIndex(956, 71), CartesianIndex(431, 72), CartesianIndex(730, 73), CartesianIndex(505, 74), CartesianIndex(249, 75), CartesianIndex(512, 76), CartesianIndex(356, 77), CartesianIndex(707, 78), CartesianIndex(3, 79), CartesianIndex(191, 80), CartesianIndex(422, 81), CartesianIndex(877, 82), CartesianIndex(272, 83), CartesianIndex(14, 84), CartesianIndex(427, 85), CartesianIndex(936, 86), CartesianIndex(827, 87), CartesianIndex(1046, 88), CartesianIndex(610, 89), CartesianIndex(1000, 90), CartesianIndex(1017, 91), CartesianIndex(1066, 92), CartesianIndex(377, 93), CartesianIndex(90, 94), CartesianIndex(788, 95), CartesianIndex(689, 96), CartesianIndex(82, 97), CartesianIndex(982, 98), CartesianIndex(577, 99), CartesianIndex(908, 100), CartesianIndex(479, 101), CartesianIndex(771, 102), CartesianIndex(1097, 103), CartesianIndex(821, 104), CartesianIndex(570, 105), CartesianIndex(483, 106), CartesianIndex(746, 107), CartesianIndex(766, 108), CartesianIndex(798, 109), CartesianIndex(1108, 110), CartesianIndex(343, 111), CartesianIndex(590, 112), CartesianIndex(264, 113), CartesianIndex(1155, 114), CartesianIndex(677, 115), CartesianIndex(436, 116), CartesianIndex(941, 117), CartesianIndex(846, 118), CartesianIndex(904, 119), CartesianIndex(73, 120), CartesianIndex(1106, 121), CartesianIndex(1105, 122), CartesianIndex(245, 123), CartesianIndex(395, 124), CartesianIndex(804, 125), CartesianIndex(632, 126), CartesianIndex(1040, 127), CartesianIndex(1074, 128), CartesianIndex(852, 129), CartesianIndex(136, 130), CartesianIndex(307, 131), CartesianIndex(408, 132), CartesianIndex(315, 133), CartesianIndex(822, 134), CartesianIndex(414, 135), CartesianIndex(229, 136), CartesianIndex(876, 137), CartesianIndex(1130, 138), CartesianIndex(1022, 139), CartesianIndex(666, 140), CartesianIndex(882, 141), CartesianIndex(48, 142), CartesianIndex(178, 143), CartesianIndex(1103, 144), CartesianIndex(461, 145), CartesianIndex(828, 146), CartesianIndex(8, 147), CartesianIndex(393, 148), CartesianIndex(902, 149), CartesianIndex(1111, 150), CartesianIndex(968, 151), CartesianIndex(621, 152), CartesianIndex(622, 153), CartesianIndex(1031, 154), CartesianIndex(211, 155), CartesianIndex(530, 156), CartesianIndex(413, 157), CartesianIndex(692, 158), CartesianIndex(159, 159), CartesianIndex(583, 160), CartesianIndex(645, 161), CartesianIndex(257, 162), CartesianIndex(700, 163), CartesianIndex(510, 164), CartesianIndex(31, 165), CartesianIndex(166, 166), CartesianIndex(433, 167), CartesianIndex(1134, 168), CartesianIndex(627, 169), CartesianIndex(59, 170), CartesianIndex(878, 171), CartesianIndex(70, 172), CartesianIndex(554, 173), CartesianIndex(57, 174), CartesianIndex(776, 175), CartesianIndex(724, 176), CartesianIndex(657, 177), CartesianIndex(10, 178), CartesianIndex(457, 179), CartesianIndex(887, 180), CartesianIndex(962, 181), CartesianIndex(117, 182), CartesianIndex(731, 183), CartesianIndex(439, 184), CartesianIndex(113, 185), CartesianIndex(347, 186), CartesianIndex(1151, 187), CartesianIndex(242, 188), CartesianIndex(820, 189), CartesianIndex(508, 190), CartesianIndex(1122, 191), CartesianIndex(953, 192), CartesianIndex(687, 193), CartesianIndex(952, 194), CartesianIndex(571, 195), CartesianIndex(500, 196), CartesianIndex(511, 197), CartesianIndex(168, 198), CartesianIndex(106, 199), CartesianIndex(385, 200), CartesianIndex(862, 201), CartesianIndex(976, 202), CartesianIndex(254, 203), CartesianIndex(799, 204), CartesianIndex(602, 205), CartesianIndex(584, 206), CartesianIndex(794, 207), CartesianIndex(531, 208), CartesianIndex(489, 209), CartesianIndex(481, 210), CartesianIndex(595, 211), CartesianIndex(490, 212), CartesianIndex(647, 213), CartesianIndex(653, 214), CartesianIndex(417, 215), CartesianIndex(706, 216), CartesianIndex(835, 217), CartesianIndex(495, 218), CartesianIndex(565, 219), CartesianIndex(977, 220), CartesianIndex(795, 221), CartesianIndex(626, 222), CartesianIndex(928, 223), CartesianIndex(213, 224), CartesianIndex(304, 225), CartesianIndex(167, 226), CartesianIndex(62, 227), CartesianIndex(141, 228), CartesianIndex(696, 229), CartesianIndex(535, 230), CartesianIndex(1054, 231), CartesianIndex(244, 232), CartesianIndex(718, 233), CartesianIndex(905, 234), CartesianIndex(898, 235), CartesianIndex(156, 236), CartesianIndex(445, 237), CartesianIndex(734, 238), CartesianIndex(151, 239), CartesianIndex(751, 240), CartesianIndex(98, 241), CartesianIndex(568, 242), CartesianIndex(833, 243), CartesianIndex(273, 244), CartesianIndex(1099, 245), CartesianIndex(1016, 246), CartesianIndex(637, 247), CartesianIndex(576, 248), CartesianIndex(195, 249), CartesianIndex(397, 250), CartesianIndex(735, 251), CartesianIndex(353, 252), CartesianIndex(758, 253), CartesianIndex(19, 254), CartesianIndex(1136, 255), CartesianIndex(44, 256), CartesianIndex(258, 257), CartesianIndex(234, 258), CartesianIndex(142, 259), CartesianIndex(1036, 260), CartesianIndex(193, 261), CartesianIndex(172, 262), CartesianIndex(617, 263), CartesianIndex(1057, 264), CartesianIndex(1011, 265), CartesianIndex(1089, 266), CartesianIndex(183, 267), CartesianIndex(373, 268), CartesianIndex(163, 269), CartesianIndex(179, 270), CartesianIndex(1006, 271), CartesianIndex(601, 272), CartesianIndex(656, 273), CartesianIndex(107, 274), CartesianIndex(214, 275), CartesianIndex(296, 276), CartesianIndex(604, 277), CartesianIndex(240, 278), CartesianIndex(940, 279), CartesianIndex(289, 280), CartesianIndex(97, 281), CartesianIndex(138, 282), CartesianIndex(484, 283), CartesianIndex(1148, 284), CartesianIndex(550, 285), CartesianIndex(534, 286), CartesianIndex(67, 287), CartesianIndex(906, 288), CartesianIndex(492, 289), CartesianIndex(506, 290), CartesianIndex(250, 291), CartesianIndex(1146, 292), CartesianIndex(169, 293), CartesianIndex(380, 294), CartesianIndex(884, 295), CartesianIndex(1093, 296), CartesianIndex(503, 297), CartesianIndex(279, 298), CartesianIndex(935, 299), CartesianIndex(516, 300), CartesianIndex(899, 301), CartesianIndex(761, 302), CartesianIndex(316, 303), CartesianIndex(881, 304), CartesianIndex(206, 305), CartesianIndex(351, 306), CartesianIndex(376, 307), CartesianIndex(467, 308), CartesianIndex(605, 309), CartesianIndex(46, 310), CartesianIndex(80, 311), CartesianIndex(375, 312), CartesianIndex(760, 313), CartesianIndex(459, 314), CartesianIndex(545, 315), CartesianIndex(1078, 316), CartesianIndex(551, 317), CartesianIndex(864, 318), CartesianIndex(729, 319), CartesianIndex(482, 320), CartesianIndex(299, 321), CartesianIndex(685, 322), CartesianIndex(572, 323), CartesianIndex(74, 324), CartesianIndex(634, 325), CartesianIndex(819, 326), CartesianIndex(1124, 327), CartesianIndex(978, 328), CartesianIndex(579, 329), CartesianIndex(860, 330), CartesianIndex(1058, 331), CartesianIndex(236, 332), CartesianIndex(241, 333), CartesianIndex(889, 334), CartesianIndex(288, 335), CartesianIndex(844, 336), CartesianIndex(79, 337), CartesianIndex(900, 338), CartesianIndex(149, 339), CartesianIndex(52, 340), CartesianIndex(162, 341), CartesianIndex(710, 342), CartesianIndex(1119, 343), CartesianIndex(547, 344), CartesianIndex(631, 345), CartesianIndex(1001, 346), CartesianIndex(663, 347), CartesianIndex(562, 348), CartesianIndex(226, 349), CartesianIndex(690, 350), CartesianIndex(11, 351), CartesianIndex(985, 352), CartesianIndex(972, 353), CartesianIndex(1005, 354), CartesianIndex(825, 355), CartesianIndex(125, 356), CartesianIndex(357, 357), CartesianIndex(391, 358), CartesianIndex(1116, 359), CartesianIndex(284, 360), CartesianIndex(522, 361), CartesianIndex(652, 362), CartesianIndex(220, 363), CartesianIndex(544, 364), CartesianIndex(528, 365), CartesianIndex(128, 366), CartesianIndex(518, 367), CartesianIndex(1018, 368), CartesianIndex(1076, 369), CartesianIndex(588, 370), CartesianIndex(270, 371), CartesianIndex(949, 372), CartesianIndex(705, 373), CartesianIndex(742, 374), CartesianIndex(190, 375), CartesianIndex(2, 376), CartesianIndex(311, 377), CartesianIndex(189, 378), CartesianIndex(112, 379), CartesianIndex(350, 380), CartesianIndex(45, 381), CartesianIndex(792, 382), CartesianIndex(75, 383), CartesianIndex(793, 384), CartesianIndex(1053, 385), CartesianIndex(222, 386), CartesianIndex(863, 387), CartesianIndex(1115, 388), CartesianIndex(337, 389), CartesianIndex(857, 390), CartesianIndex(454, 391), CartesianIndex(540, 392), CartesianIndex(182, 393), CartesianIndex(711, 394), CartesianIndex(300, 395), CartesianIndex(823, 396), CartesianIndex(1060, 397), CartesianIndex(964, 398), CartesianIndex(276, 399), CartesianIndex(725, 400), CartesianIndex(302, 401), CartesianIndex(319, 402), CartesianIndex(441, 403), CartesianIndex(608, 404), CartesianIndex(43, 405), CartesianIndex(26, 406), CartesianIndex(1110, 407), CartesianIndex(847, 408), CartesianIndex(359, 409), CartesianIndex(306, 410), CartesianIndex(525, 411), CartesianIndex(515, 412), CartesianIndex(509, 413), CartesianIndex(233, 414), CartesianIndex(930, 415), CartesianIndex(903, 416), CartesianIndex(269, 417), CartesianIndex(277, 418), CartesianIndex(124, 419), CartesianIndex(247, 420), CartesianIndex(959, 421), CartesianIndex(954, 422), CartesianIndex(1037, 423), CartesianIndex(739, 424), CartesianIndex(539, 425), CartesianIndex(84, 426), CartesianIndex(543, 427), CartesianIndex(814, 428), CartesianIndex(1087, 429), CartesianIndex(331, 430), CartesianIndex(890, 431), CartesianIndex(35, 432), CartesianIndex(801, 433), CartesianIndex(209, 434), CartesianIndex(496, 435), CartesianIndex(840, 436), CartesianIndex(437, 437), CartesianIndex(1140, 438), CartesianIndex(55, 439), CartesianIndex(328, 440), CartesianIndex(600, 441), CartesianIndex(807, 442), CartesianIndex(278, 443), CartesianIndex(383, 444), CartesianIndex(955, 445), CartesianIndex(491, 446), CartesianIndex(693, 447), CartesianIndex(246, 448), CartesianIndex(1096, 449), CartesianIndex(619, 450), CartesianIndex(888, 451), CartesianIndex(364, 452), CartesianIndex(56, 453), CartesianIndex(965, 454), CartesianIndex(25, 455), CartesianIndex(499, 456), CartesianIndex(524, 457), CartesianIndex(824, 458), CartesianIndex(196, 459), CartesianIndex(866, 460), CartesianIndex(1050, 461), CartesianIndex(32, 462), CartesianIndex(463, 463), CartesianIndex(91, 464), CartesianIndex(1083, 465), CartesianIndex(1120, 466), CartesianIndex(971, 467), CartesianIndex(684, 468), CartesianIndex(210, 469), CartesianIndex(649, 470), CartesianIndex(198, 471), CartesianIndex(217, 472), CartesianIndex(348, 473), CartesianIndex(650, 474), CartesianIndex(342, 475), CartesianIndex(803, 476), CartesianIndex(7, 477), CartesianIndex(184, 478), CartesianIndex(406, 479), CartesianIndex(983, 480), CartesianIndex(252, 481), CartesianIndex(1003, 482), CartesianIndex(875, 483), CartesianIndex(596, 484), CartesianIndex(1153, 485), CartesianIndex(504, 486), CartesianIndex(861, 487), CartesianIndex(174, 488), CartesianIndex(641, 489), CartesianIndex(849, 490), CartesianIndex(625, 491), CartesianIndex(726, 492), CartesianIndex(854, 493), CartesianIndex(915, 494), CartesianIndex(126, 495), CartesianIndex(918, 496), CartesianIndex(341, 497), CartesianIndex(1079, 498), CartesianIndex(305, 499), CartesianIndex(858, 500), CartesianIndex(678, 501), CartesianIndex(781, 502), CartesianIndex(502, 503), CartesianIndex(777, 504), CartesianIndex(420, 505), CartesianIndex(24, 506), CartesianIndex(1055, 507), CartesianIndex(770, 508), CartesianIndex(314, 509), CartesianIndex(447, 510), CartesianIndex(47, 511), CartesianIndex(310, 512), CartesianIndex(21, 513), CartesianIndex(1041, 514), CartesianIndex(29, 515), CartesianIndex(23, 516), CartesianIndex(1101, 517), CartesianIndex(271, 518), CartesianIndex(1144, 519), CartesianIndex(986, 520), CartesianIndex(158, 521), CartesianIndex(425, 522), CartesianIndex(521, 523), CartesianIndex(207, 524), CartesianIndex(859, 525), CartesianIndex(682, 526), CartesianIndex(418, 527), CartesianIndex(53, 528), CartesianIndex(675, 529), CartesianIndex(921, 530), CartesianIndex(253, 531), CartesianIndex(1042, 532), CartesianIndex(851, 533), CartesianIndex(407, 534), CartesianIndex(607, 535), CartesianIndex(546, 536), CartesianIndex(817, 537), CartesianIndex(118, 538), CartesianIndex(713, 539), CartesianIndex(326, 540), CartesianIndex(618, 541), CartesianIndex(998, 542), CartesianIndex(493, 543), CartesianIndex(599, 544), CartesianIndex(575, 545), CartesianIndex(640, 546), CartesianIndex(335, 547), CartesianIndex(591, 548), CartesianIndex(68, 549), CartesianIndex(390, 550), CartesianIndex(54, 551), CartesianIndex(372, 552), CartesianIndex(1068, 553), CartesianIndex(83, 554), CartesianIndex(841, 555), CartesianIndex(1088, 556), CartesianIndex(688, 557), CartesianIndex(629, 558), CartesianIndex(980, 559), CartesianIndex(931, 560), CartesianIndex(1143, 561), CartesianIndex(416, 562), CartesianIndex(365, 563), CartesianIndex(564, 564), CartesianIndex(63, 565), CartesianIndex(668, 566), CartesianIndex(783, 567), CartesianIndex(396, 568), CartesianIndex(143, 569), CartesianIndex(919, 570), CartesianIndex(1154, 571), CartesianIndex(665, 572), CartesianIndex(123, 573), CartesianIndex(202, 574), CartesianIndex(88, 575), CartesianIndex(606, 576), CartesianIndex(587, 577), CartesianIndex(378, 578), CartesianIndex(140, 579), CartesianIndex(261, 580), CartesianIndex(201, 581), CartesianIndex(65, 582), CartesianIndex(752, 583), CartesianIndex(747, 584), CartesianIndex(800, 585), CartesianIndex(643, 586), CartesianIndex(410, 587), CartesianIndex(338, 588), CartesianIndex(594, 589), CartesianIndex(943, 590), CartesianIndex(585, 591), CartesianIndex(838, 592), CartesianIndex(317, 593), CartesianIndex(1020, 594), CartesianIndex(297, 595), CartesianIndex(1158, 596), CartesianIndex(462, 597), CartesianIndex(715, 598), CartesianIndex(654, 599), CartesianIndex(743, 600), CartesianIndex(874, 601), CartesianIndex(628, 602), CartesianIndex(1137, 603), CartesianIndex(402, 604), CartesianIndex(933, 605), CartesianIndex(477, 606), CartesianIndex(680, 607), CartesianIndex(832, 608), CartesianIndex(287, 609), CartesianIndex(1157, 610), CartesianIndex(944, 611), CartesianIndex(757, 612), CartesianIndex(33, 613), CartesianIndex(638, 614), CartesianIndex(16, 615), CartesianIndex(235, 616), CartesianIndex(850, 617), CartesianIndex(1032, 618), CartesianIndex(708, 619), CartesianIndex(716, 620), CartesianIndex(541, 621), CartesianIndex(658, 622), CartesianIndex(1012, 623), CartesianIndex(836, 624), CartesianIndex(719, 625), CartesianIndex(451, 626), CartesianIndex(911, 627), CartesianIndex(1100, 628), CartesianIndex(428, 629), CartesianIndex(1027, 630), CartesianIndex(260, 631), CartesianIndex(744, 632), CartesianIndex(609, 633), CartesianIndex(740, 634), CartesianIndex(20, 635), CartesianIndex(485, 636), CartesianIndex(30, 637), CartesianIndex(374, 638), CartesianIndex(613, 639), CartesianIndex(411, 640), CartesianIndex(228, 641), CartesianIndex(527, 642), CartesianIndex(103, 643), CartesianIndex(86, 644), CartesianIndex(574, 645), CartesianIndex(186, 646), CartesianIndex(517, 647), CartesianIndex(1121, 648), CartesianIndex(523, 649), CartesianIndex(691, 650), CartesianIndex(424, 651), CartesianIndex(1039, 652), CartesianIndex(460, 653), CartesianIndex(358, 654), CartesianIndex(913, 655), CartesianIndex(18, 656), CartesianIndex(778, 657), CartesianIndex(843, 658), CartesianIndex(497, 659), CartesianIndex(192, 660), CartesianIndex(51, 661), CartesianIndex(659, 662), CartesianIndex(709, 663), CartesianIndex(429, 664), CartesianIndex(330, 665), CartesianIndex(1070, 666), CartesianIndex(237, 667), CartesianIndex(501, 668), CartesianIndex(488, 669), CartesianIndex(815, 670), CartesianIndex(773, 671), CartesianIndex(556, 672), CartesianIndex(945, 673), CartesianIndex(1002, 674), CartesianIndex(486, 675), CartesianIndex(290, 676), CartesianIndex(990, 677), CartesianIndex(208, 678), CartesianIndex(651, 679), CartesianIndex(132, 680), CartesianIndex(989, 681), CartesianIndex(924, 682), CartesianIndex(611, 683), CartesianIndex(698, 684), CartesianIndex(1114, 685), CartesianIndex(1084, 686), CartesianIndex(674, 687), CartesianIndex(791, 688), CartesianIndex(671, 689), CartesianIndex(93, 690), CartesianIndex(49, 691), CartesianIndex(218, 692), CartesianIndex(394, 693), CartesianIndex(466, 694), CartesianIndex(1091, 695), CartesianIndex(703, 696), CartesianIndex(354, 697), CartesianIndex(232, 698), CartesianIndex(146, 699), CartesianIndex(1075, 700), CartesianIndex(1112, 701), CartesianIndex(13, 702), CartesianIndex(468, 703), CartesianIndex(458, 704), CartesianIndex(753, 705), CartesianIndex(946, 706), CartesianIndex(188, 707), CartesianIndex(144, 708), CartesianIndex(701, 709), CartesianIndex(578, 710), CartesianIndex(361, 711), CartesianIndex(1021, 712), CartesianIndex(256, 713), CartesianIndex(639, 714), CartesianIndex(363, 715), CartesianIndex(620, 716), CartesianIndex(975, 717), CartesianIndex(472, 718), CartesianIndex(720, 719), CartesianIndex(559, 720), CartesianIndex(27, 721), CartesianIndex(1019, 722), CartesianIndex(203, 723), CartesianIndex(984, 724), CartesianIndex(275, 725), CartesianIndex(259, 726), CartesianIndex(108, 727), CartesianIndex(997, 728), CartesianIndex(415, 729), CartesianIndex(187, 730), CartesianIndex(772, 731), CartesianIndex(352, 732), CartesianIndex(661, 733), CartesianIndex(4, 734), CartesianIndex(173, 735), CartesianIndex(1052, 736), CartesianIndex(714, 737), CartesianIndex(323, 738), CartesianIndex(974, 739), CartesianIndex(223, 740), CartesianIndex(474, 741), CartesianIndex(200, 742), CartesianIndex(697, 743), CartesianIndex(66, 744), CartesianIndex(5, 745), CartesianIndex(592, 746), CartesianIndex(443, 747), CartesianIndex(336, 748), CartesianIndex(548, 749), CartesianIndex(867, 750), CartesianIndex(40, 751), CartesianIndex(805, 752), CartesianIndex(756, 753), CartesianIndex(552, 754), CartesianIndex(994, 755), CartesianIndex(114, 756), CartesianIndex(883, 757), CartesianIndex(41, 758), CartesianIndex(1007, 759), CartesianIndex(979, 760), CartesianIndex(438, 761), CartesianIndex(712, 762), CartesianIndex(831, 763), CartesianIndex(327, 764), CartesianIndex(1113, 765), CartesianIndex(362, 766), CartesianIndex(839, 767), CartesianIndex(673, 768), CartesianIndex(786, 769), CartesianIndex(170, 770), CartesianIndex(1059, 771), CartesianIndex(787, 772), CartesianIndex(379, 773), CartesianIndex(648, 774), CartesianIndex(796, 775), CartesianIndex(231, 776), CartesianIndex(267, 777), CartesianIndex(669, 778), CartesianIndex(87, 779), CartesianIndex(450, 780), CartesianIndex(405, 781), CartesianIndex(636, 782), CartesianIndex(69, 783), CartesianIndex(856, 784), CartesianIndex(139, 785), CartesianIndex(1117, 786), CartesianIndex(939, 787), CartesianIndex(389, 788), CartesianIndex(765, 789), CartesianIndex(612, 790), CartesianIndex(808, 791), CartesianIndex(216, 792), CartesianIndex(837, 793), CartesianIndex(398, 794), CartesianIndex(1095, 795), CartesianIndex(221, 796), CartesianIndex(148, 797), CartesianIndex(111, 798), CartesianIndex(464, 799), CartesianIndex(421, 800), CartesianIndex(292, 801), CartesianIndex(1026, 802), CartesianIndex(110, 803), CartesianIndex(102, 804), CartesianIndex(77, 805), CartesianIndex(768, 806), CartesianIndex(880, 807), CartesianIndex(676, 808), CartesianIndex(1138, 809), CartesianIndex(61, 810), CartesianIndex(322, 811), CartesianIndex(1107, 812), CartesianIndex(274, 813), CartesianIndex(177, 814), CartesianIndex(384, 815), CartesianIndex(526, 816), CartesianIndex(255, 817), CartesianIndex(325, 818), CartesianIndex(340, 819), CartesianIndex(759, 820), CartesianIndex(157, 821), CartesianIndex(646, 822), CartesianIndex(154, 823), CartesianIndex(514, 824), CartesianIndex(644, 825), CartesianIndex(1086, 826), CartesianIndex(830, 827), CartesianIndex(519, 828), CartesianIndex(215, 829), CartesianIndex(1048, 830), CartesianIndex(702, 831), CartesianIndex(769, 832), CartesianIndex(94, 833), CartesianIndex(293, 834), CartesianIndex(435, 835), CartesianIndex(387, 836), CartesianIndex(1061, 837), CartesianIndex(17, 838), CartesianIndex(686, 839), CartesianIndex(672, 840), CartesianIndex(633, 841), CartesianIndex(423, 842), CartesianIndex(285, 843), CartesianIndex(1145, 844), CartesianIndex(37, 845), CartesianIndex(1063, 846), CartesianIndex(475, 847), CartesianIndex(909, 848), CartesianIndex(153, 849), CartesianIndex(470, 850), CartesianIndex(929, 851), CartesianIndex(767, 852), CartesianIndex(717, 853), CartesianIndex(937, 854), CartesianIndex(1109, 855), CartesianIndex(469, 856), CartesianIndex(782, 857), CartesianIndex(951, 858), CartesianIndex(301, 859), CartesianIndex(452, 860), CartesianIndex(1010, 861), CartesianIndex(818, 862), CartesianIndex(453, 863), CartesianIndex(399, 864), CartesianIndex(104, 865), CartesianIndex(320, 866), CartesianIndex(947, 867), CartesianIndex(455, 868), CartesianIndex(762, 869), CartesianIndex(1125, 870), CartesianIndex(704, 871), CartesianIndex(916, 872), CartesianIndex(1152, 873), CartesianIndex(597, 874), CartesianIndex(50, 875), CartesianIndex(161, 876), CartesianIndex(660, 877), CartesianIndex(813, 878), CartesianIndex(449, 879), CartesianIndex(721, 880), CartesianIndex(699, 881), CartesianIndex(728, 882), CartesianIndex(893, 883), CartesianIndex(71, 884), CartesianIndex(567, 885), CartesianIndex(533, 886), CartesianIndex(736, 887), CartesianIndex(826, 888), CartesianIndex(100, 889), CartesianIndex(333, 890), CartesianIndex(1131, 891), CartesianIndex(775, 892), CartesianIndex(1023, 893), CartesianIndex(797, 894), CartesianIndex(970, 895), CartesianIndex(892, 896), CartesianIndex(871, 897), CartesianIndex(561, 898), CartesianIndex(129, 899), CartesianIndex(816, 900), CartesianIndex(6, 901), CartesianIndex(894, 902), CartesianIndex(1, 903), CartesianIndex(1135, 904), CartesianIndex(308, 905), CartesianIndex(785, 906), CartesianIndex(487, 907), CartesianIndex(127, 908), CartesianIndex(430, 909), CartesianIndex(388, 910), CartesianIndex(598, 911), CartesianIndex(175, 912), CartesianIndex(960, 913), CartesianIndex(901, 914), CartesianIndex(948, 915), CartesianIndex(1128, 916), CartesianIndex(549, 917), CartesianIndex(741, 918), CartesianIndex(868, 919), CartesianIndex(967, 920), CartesianIndex(96, 921), CartesianIndex(981, 922), CartesianIndex(366, 923), CartesianIndex(1029, 924), CartesianIndex(580, 925), CartesianIndex(907, 926), CartesianIndex(520, 927), CartesianIndex(635, 928), CartesianIndex(42, 929), CartesianIndex(1073, 930), CartesianIndex(473, 931), CartesianIndex(478, 932), CartesianIndex(1045, 933), CartesianIndex(755, 934), CartesianIndex(988, 935), CartesianIndex(667, 936), CartesianIndex(135, 937), CartesianIndex(624, 938), CartesianIndex(563, 939), CartesianIndex(448, 940), CartesianIndex(764, 941), CartesianIndex(494, 942), CartesianIndex(1072, 943), CartesianIndex(219, 944), CartesianIndex(181, 945), CartesianIndex(212, 946), CartesianIndex(950, 947), CartesianIndex(923, 948), CartesianIndex(346, 949), CartesianIndex(1030, 950), CartesianIndex(152, 951), CartesianIndex(1033, 952), CartesianIndex(992, 953), CartesianIndex(558, 954), CartesianIndex(745, 955), CartesianIndex(1129, 956), CartesianIndex(1139, 957), CartesianIndex(282, 958), CartesianIndex(848, 959), CartesianIndex(283, 960), CartesianIndex(834, 961), CartesianIndex(1142, 962), CartesianIndex(987, 963), CartesianIndex(329, 964), CartesianIndex(1090, 965), CartesianIndex(553, 966), CartesianIndex(147, 967), CartesianIndex(1149, 968), CartesianIndex(1008, 969), CartesianIndex(78, 970), CartesianIndex(324, 971), CartesianIndex(404, 972), CartesianIndex(737, 973), CartesianIndex(344, 974), CartesianIndex(829, 975), CartesianIndex(1150, 976), CartesianIndex(434, 977), CartesianIndex(542, 978), CartesianIndex(381, 979), CartesianIndex(1035, 980), CartesianIndex(1147, 981), CartesianIndex(1047, 982), CartesianIndex(286, 983), CartesianIndex(662, 984), CartesianIndex(957, 985), CartesianIndex(1009, 986), CartesianIndex(265, 987), CartesianIndex(603, 988), CartesianIndex(630, 989), CartesianIndex(966, 990), CartesianIndex(115, 991), CartesianIndex(199, 992), CartesianIndex(738, 993), CartesianIndex(367, 994), CartesianIndex(845, 995), CartesianIndex(1094, 996), CartesianIndex(1034, 997), CartesianIndex(683, 998), CartesianIndex(695, 999), CartesianIndex(76, 1000), CartesianIndex(973, 1001), CartesianIndex(137, 1002), CartesianIndex(164, 1003), CartesianIndex(969, 1004), CartesianIndex(963, 1005), CartesianIndex(722, 1006), CartesianIndex(251, 1007), CartesianIndex(268, 1008), CartesianIndex(64, 1009), CartesianIndex(440, 1010), CartesianIndex(779, 1011), CartesianIndex(345, 1012), CartesianIndex(298, 1013), CartesianIndex(204, 1014), CartesianIndex(809, 1015), CartesianIndex(532, 1016), CartesianIndex(1025, 1017), CartesianIndex(938, 1018), CartesianIndex(732, 1019), CartesianIndex(1062, 1020), CartesianIndex(1014, 1021), CartesianIndex(225, 1022), CartesianIndex(1064, 1023), CartesianIndex(991, 1024), CartesianIndex(557, 1025), CartesianIndex(873, 1026), CartesianIndex(1102, 1027), CartesianIndex(122, 1028), CartesianIndex(855, 1029), CartesianIndex(262, 1030), CartesianIndex(194, 1031), CartesianIndex(160, 1032), CartesianIndex(895, 1033), CartesianIndex(119, 1034), CartesianIndex(1127, 1035), CartesianIndex(917, 1036), CartesianIndex(480, 1037), CartesianIndex(1082, 1038), CartesianIndex(120, 1039), CartesianIndex(1118, 1040), CartesianIndex(60, 1041), CartesianIndex(360, 1042), CartesianIndex(748, 1043), CartesianIndex(790, 1044), CartesianIndex(780, 1045), CartesianIndex(89, 1046), CartesianIndex(573, 1047), CartesianIndex(150, 1048), CartesianIndex(879, 1049), CartesianIndex(1085, 1050), CartesianIndex(382, 1051), CartesianIndex(15, 1052), CartesianIndex(1051, 1053), CartesianIndex(589, 1054), CartesianIndex(339, 1055), CartesianIndex(942, 1056), CartesianIndex(727, 1057), CartesianIndex(28, 1058), CartesianIndex(476, 1059), CartesianIndex(922, 1060), CartesianIndex(914, 1061), CartesianIndex(853, 1062), CartesianIndex(810, 1063), CartesianIndex(121, 1064), CartesianIndex(616, 1065), CartesianIndex(134, 1066), CartesianIndex(1067, 1067), CartesianIndex(368, 1068), CartesianIndex(1133, 1069), CartesianIndex(1043, 1070), CartesianIndex(412, 1071), CartesianIndex(1092, 1072), CartesianIndex(180, 1073), CartesianIndex(754, 1074), CartesianIndex(896, 1075), CartesianIndex(369, 1076), CartesianIndex(1104, 1077), CartesianIndex(426, 1078), CartesianIndex(248, 1079), CartesianIndex(1080, 1080), CartesianIndex(498, 1081), CartesianIndex(465, 1082), CartesianIndex(1126, 1083), CartesianIndex(224, 1084), CartesianIndex(401, 1085), CartesianIndex(932, 1086), CartesianIndex(566, 1087), CartesianIndex(802, 1088), CartesianIndex(370, 1089), CartesianIndex(614, 1090), CartesianIndex(961, 1091), CartesianIndex(72, 1092), CartesianIndex(58, 1093), CartesianIndex(1028, 1094), CartesianIndex(371, 1095), CartesianIndex(386, 1096), CartesianIndex(784, 1097), CartesianIndex(1044, 1098), CartesianIndex(811, 1099), CartesianIndex(1049, 1100), CartesianIndex(1156, 1101), CartesianIndex(1141, 1102), CartesianIndex(872, 1103), CartesianIndex(303, 1104), CartesianIndex(227, 1105), CartesianIndex(670, 1106), CartesianIndex(842, 1107), CartesianIndex(920, 1108), CartesianIndex(1056, 1109), CartesianIndex(958, 1110), CartesianIndex(442, 1111), CartesianIndex(92, 1112), CartesianIndex(239, 1113), CartesianIndex(995, 1114), CartesianIndex(185, 1115), CartesianIndex(22, 1116), CartesianIndex(1013, 1117), CartesianIndex(36, 1118), CartesianIndex(456, 1119), CartesianIndex(560, 1120), CartesianIndex(230, 1121), CartesianIndex(81, 1122), CartesianIndex(1069, 1123), CartesianIndex(910, 1124), CartesianIndex(934, 1125), CartesianIndex(999, 1126), CartesianIndex(205, 1127), CartesianIndex(105, 1128), CartesianIndex(581, 1129), CartesianIndex(1065, 1130), CartesianIndex(885, 1131), CartesianIndex(155, 1132), CartesianIndex(993, 1133), CartesianIndex(912, 1134), CartesianIndex(280, 1135), CartesianIndex(295, 1136), CartesianIndex(145, 1137), CartesianIndex(1077, 1138), CartesianIndex(85, 1139), CartesianIndex(996, 1140), CartesianIndex(538, 1141), CartesianIndex(865, 1142), CartesianIndex(101, 1143), CartesianIndex(291, 1144), CartesianIndex(1038, 1145), CartesianIndex(694, 1146), CartesianIndex(1132, 1147), CartesianIndex(116, 1148), CartesianIndex(432, 1149), CartesianIndex(1081, 1150), CartesianIndex(806, 1151), CartesianIndex(39, 1152), CartesianIndex(926, 1153), CartesianIndex(750, 1154), CartesianIndex(1098, 1155), CartesianIndex(555, 1156), CartesianIndex(321, 1157), CartesianIndex(891, 1158)]\n"
     ]
    },
    {
     "data": {
      "text/plain": [
       "1158-element Array{CartesianIndex{2},1}:\n",
       " CartesianIndex(313, 1)    \n",
       " CartesianIndex(586, 2)    \n",
       " CartesianIndex(1123, 3)   \n",
       " CartesianIndex(318, 4)    \n",
       " CartesianIndex(266, 5)    \n",
       " CartesianIndex(593, 6)    \n",
       " CartesianIndex(133, 7)    \n",
       " CartesianIndex(109, 8)    \n",
       " CartesianIndex(12, 9)     \n",
       " CartesianIndex(642, 10)   \n",
       " CartesianIndex(130, 11)   \n",
       " CartesianIndex(400, 12)   \n",
       " CartesianIndex(99, 13)    \n",
       " ⋮                         \n",
       " CartesianIndex(1132, 1147)\n",
       " CartesianIndex(116, 1148) \n",
       " CartesianIndex(432, 1149) \n",
       " CartesianIndex(1081, 1150)\n",
       " CartesianIndex(806, 1151) \n",
       " CartesianIndex(39, 1152)  \n",
       " CartesianIndex(926, 1153) \n",
       " CartesianIndex(750, 1154) \n",
       " CartesianIndex(1098, 1155)\n",
       " CartesianIndex(555, 1156) \n",
       " CartesianIndex(321, 1157) \n",
       " CartesianIndex(891, 1158) "
      ]
     },
     "execution_count": 30,
     "metadata": {},
     "output_type": "execute_result"
    }
   ],
   "source": [
    "using JuMP\n",
    "using Gurobi  # can use any LP solver you want instead.\n",
    "\n",
    "n,m = size(Φ)\n",
    "p = fill(1/n,n)\n",
    "q = fill(1/m,m)\n",
    "\n",
    "let\n",
    "    mo = Model(with_optimizer(Gurobi.Optimizer))\n",
    "    @variable(mo, 0 <= π[1:n,1:m] <= 1)\n",
    "    @objective(mo, Max, sum( sum( π[ix,iy]*Φ[ix,iy] for iy in 1:m) for ix in 1:n))\n",
    "    @constraint(mo, conx[ix = 1:n], sum(π[ix,:]) == p[ix])\n",
    "    @constraint(mo, cony[iy = 1:m], sum(π[:,iy]) == q[iy])\n",
    "    optimize!(mo)\n",
    "    \n",
    "    @show termination_status(mo)\n",
    "    @show objective_value(mo)\n",
    "    @show findall(value.(π) .!= 0)\n",
    "\n",
    "end"
   ]
  },
  {
   "cell_type": "code",
   "execution_count": 3,
   "metadata": {
    "collapsed": true
   },
   "outputs": [],
   "source": [
    "obj = c(Phi)"
   ]
  },
  {
   "cell_type": "markdown",
   "metadata": {},
   "source": [
    "Recall that if $A$ is a $M\\times p$ matrix and $B$ a $N\\times q$ matrix, then the Kronecker product $A\\otimes B$ of $A$ and $B$ is a $mn\\times pq$ matrix such that\n",
    "\n",
    "\\begin{align*}\n",
    "vec\\left(  BXA^{\\prime}\\right)  =\\left(  A\\otimes B\\right)  vec\\left(\n",
    "X\\right). \\label{VecAndKronecker}\n",
    "\\end{align*}\n",
    "\n",
    "In R, $A\\otimes B$ is implemented by `kronecker(A,B)`; in Matlab, by `kron(A,B)`.\n",
    "\n",
    "The first constraint $I_{N}\\Pi1_{M}=p$, vectorizes therefore as\n",
    "\n",
    "\\begin{align*}\n",
    "\\left(  1_{M}^{\\prime}\\otimes I_{N}\\right)  vec\\left(  \\Pi\\right)  =vec\\left(\n",
    "p\\right),\n",
    "\\end{align*}\n",
    "\n",
    "and similarly, the second constraint $1_{N}^{\\prime}\\Pi I_{M}=q^{\\prime}$, vectorizes as\n",
    "\n",
    "\\begin{align*}\n",
    "\\left(  I_{M}\\otimes1_{N}^{\\prime}\\right)  vec\\left(  \\Pi\\right)  =vec\\left(\n",
    "q\\right)  .\n",
    "\\end{align*}\n",
    "\n",
    "Note that the matrix $1_{M}^{\\prime}\\otimes I_{N}$ is of size $N\\times NM$, and the matrix $I_{M}\\otimes1_{N}^{\\prime}$ is of size $M\\times NM$; hence the full matrix involved in the left-hand side of the constraints is of size $\\left(  N+M\\right)  \\times NM$. In spite of its large size, this matrix is *sparse*. In `R`, the identity matrix $I_{N}$ is coded as `sparseMatrix(1:N,1:N)`, in Matlab as `Speye(N)`."
   ]
  },
  {
   "cell_type": "code",
   "execution_count": 4,
   "metadata": {
    "collapsed": true
   },
   "outputs": [],
   "source": [
    "N = dim(Phi)[1]\n",
    "M = dim(Phi)[2]\n",
    "\n",
    "A1 = kronecker(matrix(1, 1, M), sparseMatrix(1:N, 1:N))\n",
    "A2 = kronecker(sparseMatrix(1:M, 1:M), matrix(1, 1, N))\n",
    "A = rbind2(A1, A2)\n",
    "\n",
    "p = rep(1/nobs, nobs)\n",
    "q = rep(1/nobs, nobs)\n",
    "d = c(p, q)"
   ]
  },
  {
   "cell_type": "markdown",
   "metadata": {},
   "source": [
    "Setting $z=vec\\left(  \\Pi\\right)$, the Linear Programming problem then becomes\n",
    "\n",
    "\\begin{align*}\n",
    "&  \\max_{z\\geq0}vec\\left(  \\Phi\\right)  ^{\\prime}z\\label{LPvectorized}\\\\\n",
    "s.t.~  &  \\left(  1_{M}^{\\prime}\\otimes I_{N}\\right)  z=vec\\left(  p\\right)\n",
    "\\nonumber\\\\\n",
    "&  \\left(  I_{M}\\otimes1_{N}^{\\prime}\\right)  z=vec\\left(  q^{\\prime}\\right)\n",
    "\\nonumber\n",
    "\\end{align*}\n",
    "\n",
    "which is ready to be passed on to a linear programming solver such as Gurobi.\n",
    "\n",
    "A LP solver typically computes programs of the form\n",
    "\n",
    "\\begin{align*}\n",
    "&  \\max_{z\\geq0}c^{\\prime}z\\label{standardLP}\\\\\n",
    "&  s.t.~Az=d.\\nonumber\n",
    "\\end{align*}"
   ]
  },
  {
   "cell_type": "code",
   "execution_count": 5,
   "metadata": {},
   "outputs": [
    {
     "name": "stdout",
     "output_type": "stream",
     "text": [
      "[1] \"Value of the problem (Gurobi) = 1.70388302245657\"\n",
      " [1] 1.922803 1.286440 2.351599 3.030279 3.741377 2.725222 1.252313 1.988384\n",
      " [9] 1.445145 1.525087\n",
      " [1] -0.7409078 -0.9616074  0.6039734 -0.2880301 -1.1140921 -0.1014630\n",
      " [7] -0.6873566  0.5351975 -0.5838891 -0.1083689\n"
     ]
    }
   ],
   "source": [
    "result = gurobi(list(A = A, obj = obj, modelsense = \"max\", rhs = d, sense = \"=\"), \n",
    "    params = list(OutputFlag = 0))\n",
    "if (result$status == \"OPTIMAL\") {\n",
    "    pi = matrix(result$x, nrow = N)\n",
    "    u = result$pi[1:N]\n",
    "    v = result$pi[(N + 1):(N + M)]\n",
    "    val = result$objval\n",
    "} else {\n",
    "    stop(\"optimization problem with Gurobi.\")\n",
    "}\n",
    "\n",
    "print(paste0(\"Value of the problem (Gurobi) = \", val))\n",
    "print(u[1:10])\n",
    "print(v[1:10])"
   ]
  },
  {
   "cell_type": "markdown",
   "metadata": {},
   "source": [
    "Who does man $1$ match with?"
   ]
  },
  {
   "cell_type": "code",
   "execution_count": 6,
   "metadata": {},
   "outputs": [
    {
     "name": "stdout",
     "output_type": "stream",
     "text": [
      "[1] \"Woman 576\"\n"
     ]
    }
   ],
   "source": [
    "print(paste('Woman', which(pi[1,]!=0)))"
   ]
  }
 ],
 "metadata": {
  "@webio": {
   "lastCommId": null,
   "lastKernelId": null
  },
  "kernelspec": {
   "display_name": "Julia 1.1.0",
   "language": "julia",
   "name": "julia-1.1"
  },
  "language_info": {
   "file_extension": ".jl",
   "mimetype": "application/julia",
   "name": "julia",
   "version": "1.1.0"
  }
 },
 "nbformat": 4,
 "nbformat_minor": 2
}
